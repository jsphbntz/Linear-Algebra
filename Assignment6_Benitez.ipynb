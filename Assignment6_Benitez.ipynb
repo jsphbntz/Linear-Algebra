{
  "nbformat": 4,
  "nbformat_minor": 0,
  "metadata": {
    "colab": {
      "name": "Assignment6_Benitez.ipynb",
      "provenance": [],
      "collapsed_sections": [
        "EZA1HyW2OHXP",
        "SIpjLVx6QsLu",
        "b5ePPKrmP1Hu",
        "x2ohZgc-Q1zW",
        "pGoTPW9IS5kV",
        "oX1s43oGZBKE",
        "JBkj8YQxaQZh",
        "c3T8tEKU_TUN"
      ],
      "authorship_tag": "ABX9TyPdRqnzN+TVxRDBWy6pqprR",
      "include_colab_link": true
    },
    "kernelspec": {
      "name": "python3",
      "display_name": "Python 3"
    },
    "language_info": {
      "name": "python"
    }
  },
  "cells": [
    {
      "cell_type": "markdown",
      "metadata": {
        "id": "view-in-github",
        "colab_type": "text"
      },
      "source": [
        "<a href=\"https://colab.research.google.com/github/jsphbntz/Linear-Algebra/blob/main/Assignment6_Benitez.ipynb\" target=\"_parent\"><img src=\"https://colab.research.google.com/assets/colab-badge.svg\" alt=\"Open In Colab\"/></a>"
      ]
    },
    {
      "cell_type": "markdown",
      "metadata": {
        "id": "2ZV24c_sHECB"
      },
      "source": [
        "# ***LINEAR ALGEBRA FOR ECE***\n",
        "### LABORATORY 6: Matrix Operations"
      ]
    },
    {
      "cell_type": "markdown",
      "metadata": {
        "id": "XkEZNj3bb5nB"
      },
      "source": [
        "Now that you have a fundamental knowledge about representing and operating with vectors as well as the fundamentals of matrices, we'll try to the same operations with matrices and even more"
      ]
    },
    {
      "cell_type": "markdown",
      "metadata": {
        "id": "Qi5GvD9SFG9-"
      },
      "source": [
        "## **Objectives**"
      ]
    },
    {
      "cell_type": "markdown",
      "metadata": {
        "id": "kSOx4oy0bvg8"
      },
      "source": [
        "At the end of this activity you will be able to:\n",
        "1. Be familiar with the fundamental matrix operations.\n",
        "2. Apply the operations to solve intermediate equations.\n",
        "3. Apply matrix algebra in engineering solutions."
      ]
    },
    {
      "cell_type": "markdown",
      "metadata": {
        "id": "1YDDVtoeFWWS"
      },
      "source": [
        "# ***DISCUSSION***"
      ]
    },
    {
      "cell_type": "code",
      "metadata": {
        "id": "dUEBK7c8FYs_"
      },
      "source": [
        "import numpy as np\n",
        "import matplotlib.pyplot as plt\n",
        "%matplotlib inline"
      ],
      "execution_count": null,
      "outputs": []
    },
    {
      "cell_type": "markdown",
      "metadata": {
        "id": "Ok7DyvyeJQm2"
      },
      "source": [
        "## **Transposition**"
      ]
    },
    {
      "cell_type": "markdown",
      "metadata": {
        "id": "gUZBonA0JWqj"
      },
      "source": [
        "One of the fundamental operation in matrix algebra is Transposition. The transpose of a matrix is done by flipping the values of its elements over its diagonals. With this, the rows and columns from the original matrix will be switched. So for a matrix $A$ its transpose is denoted as $A^T$. \n",
        "So for example:"
      ]
    },
    {
      "cell_type": "markdown",
      "metadata": {
        "id": "NO4Qf1tGJYJJ"
      },
      "source": [
        "$$A = \\begin{bmatrix} 1 & 2 & 5\\\\5 & -1 &0 \\\\ 0 & -3 & 3\\end{bmatrix} $$\n"
      ]
    },
    {
      "cell_type": "markdown",
      "metadata": {
        "id": "0_t10JE4Jb7X"
      },
      "source": [
        "This can now be achieved programmatically by using np.transpose() or by using the T method."
      ]
    },
    {
      "cell_type": "code",
      "metadata": {
        "colab": {
          "base_uri": "https://localhost:8080/"
        },
        "id": "z4c7kuchJfsN",
        "outputId": "21cad15c-f64c-4eb7-bbf9-d54e812f0e76"
      },
      "source": [
        "A = np.array([\n",
        "  [1, 2, 5],\n",
        "  [5, -1, 0],\n",
        "  [0, -3, 3]\n",
        "])\n",
        "A"
      ],
      "execution_count": null,
      "outputs": [
        {
          "output_type": "execute_result",
          "data": {
            "text/plain": [
              "array([[ 1,  2,  5],\n",
              "       [ 5, -1,  0],\n",
              "       [ 0, -3,  3]])"
            ]
          },
          "metadata": {},
          "execution_count": 123
        }
      ]
    },
    {
      "cell_type": "code",
      "metadata": {
        "colab": {
          "base_uri": "https://localhost:8080/"
        },
        "id": "PiLEJoMTJgt4",
        "outputId": "b8271c70-f711-4aa6-957b-79e797806c84"
      },
      "source": [
        "AT1 = np.transpose(A)\n",
        "AT1"
      ],
      "execution_count": null,
      "outputs": [
        {
          "output_type": "execute_result",
          "data": {
            "text/plain": [
              "array([[ 1,  5,  0],\n",
              "       [ 2, -1, -3],\n",
              "       [ 5,  0,  3]])"
            ]
          },
          "metadata": {},
          "execution_count": 124
        }
      ]
    },
    {
      "cell_type": "code",
      "metadata": {
        "colab": {
          "base_uri": "https://localhost:8080/"
        },
        "id": "9EwOGlyQJh2X",
        "outputId": "2fc3e0bf-72eb-4b68-a050-a43e876be257"
      },
      "source": [
        "AT2 = A.T\n",
        "AT2"
      ],
      "execution_count": null,
      "outputs": [
        {
          "output_type": "execute_result",
          "data": {
            "text/plain": [
              "array([[ 1,  5,  0],\n",
              "       [ 2, -1, -3],\n",
              "       [ 5,  0,  3]])"
            ]
          },
          "metadata": {},
          "execution_count": 125
        }
      ]
    },
    {
      "cell_type": "code",
      "metadata": {
        "colab": {
          "base_uri": "https://localhost:8080/"
        },
        "id": "w5u1kO8_JjAH",
        "outputId": "ac011eec-43d4-4c11-fd2d-a6d3921cea18"
      },
      "source": [
        "np.array_equiv(AT1, AT2)"
      ],
      "execution_count": null,
      "outputs": [
        {
          "output_type": "execute_result",
          "data": {
            "text/plain": [
              "True"
            ]
          },
          "metadata": {},
          "execution_count": 126
        }
      ]
    },
    {
      "cell_type": "code",
      "metadata": {
        "colab": {
          "base_uri": "https://localhost:8080/"
        },
        "id": "YUidenEyJkqh",
        "outputId": "e59b7999-9ca7-4a04-a513-2e8a9124b561"
      },
      "source": [
        "B = np.array([\n",
        "    [1,2,3,4],\n",
        "    [1,0,2,1]\n",
        "])\n",
        "B.shape"
      ],
      "execution_count": null,
      "outputs": [
        {
          "output_type": "execute_result",
          "data": {
            "text/plain": [
              "(2, 4)"
            ]
          },
          "metadata": {},
          "execution_count": 127
        }
      ]
    },
    {
      "cell_type": "code",
      "metadata": {
        "colab": {
          "base_uri": "https://localhost:8080/"
        },
        "id": "X8pyvbqEKuVu",
        "outputId": "b6bb9811-9dd4-4662-ccab-ed61deae0e7e"
      },
      "source": [
        "np.transpose(B).shape"
      ],
      "execution_count": null,
      "outputs": [
        {
          "output_type": "execute_result",
          "data": {
            "text/plain": [
              "(4, 2)"
            ]
          },
          "metadata": {},
          "execution_count": 128
        }
      ]
    },
    {
      "cell_type": "code",
      "metadata": {
        "colab": {
          "base_uri": "https://localhost:8080/"
        },
        "id": "sYF6Lbm1Kw0y",
        "outputId": "817151cd-5d19-4e5f-fb01-b0fcfa2aa7b8"
      },
      "source": [
        "B.T.shape"
      ],
      "execution_count": null,
      "outputs": [
        {
          "output_type": "execute_result",
          "data": {
            "text/plain": [
              "(4, 2)"
            ]
          },
          "metadata": {},
          "execution_count": 129
        }
      ]
    },
    {
      "cell_type": "markdown",
      "metadata": {
        "id": "mhgyZAedLIqf"
      },
      "source": [
        "Try to create your own matrix (you can try non-squares) to test transposition."
      ]
    },
    {
      "cell_type": "code",
      "metadata": {
        "colab": {
          "base_uri": "https://localhost:8080/"
        },
        "id": "oejGFktSLLcR",
        "outputId": "cda8cd88-524d-4498-a218-e24679f44878"
      },
      "source": [
        "craulo = np.array([\n",
        "      [1,2,3],\n",
        "      [5,6,7]\n",
        "])\n",
        "craulo.shape\n"
      ],
      "execution_count": null,
      "outputs": [
        {
          "output_type": "execute_result",
          "data": {
            "text/plain": [
              "(2, 3)"
            ]
          },
          "metadata": {},
          "execution_count": 130
        }
      ]
    },
    {
      "cell_type": "code",
      "metadata": {
        "colab": {
          "base_uri": "https://localhost:8080/"
        },
        "id": "EQ3iw5-wL31z",
        "outputId": "b37acf27-6878-44a8-bb6d-5bb3ca4091aa"
      },
      "source": [
        "np.transpose(craulo).shape"
      ],
      "execution_count": null,
      "outputs": [
        {
          "output_type": "execute_result",
          "data": {
            "text/plain": [
              "(3, 2)"
            ]
          },
          "metadata": {},
          "execution_count": 131
        }
      ]
    },
    {
      "cell_type": "code",
      "metadata": {
        "colab": {
          "base_uri": "https://localhost:8080/"
        },
        "id": "XbKpDz9EL6WZ",
        "outputId": "460268b3-9e5f-4323-f493-e0f8d456e583"
      },
      "source": [
        "craulo.T.shape"
      ],
      "execution_count": null,
      "outputs": [
        {
          "output_type": "execute_result",
          "data": {
            "text/plain": [
              "(3, 2)"
            ]
          },
          "metadata": {},
          "execution_count": 132
        }
      ]
    },
    {
      "cell_type": "code",
      "metadata": {
        "colab": {
          "base_uri": "https://localhost:8080/"
        },
        "id": "Qgmb_Kb5MA41",
        "outputId": "2d04b352-ad20-4f5a-d51a-bd102720abd6"
      },
      "source": [
        "crauloT = craulo.T\n",
        "craulo.T"
      ],
      "execution_count": null,
      "outputs": [
        {
          "output_type": "execute_result",
          "data": {
            "text/plain": [
              "array([[1, 5],\n",
              "       [2, 6],\n",
              "       [3, 7]])"
            ]
          },
          "metadata": {},
          "execution_count": 133
        }
      ]
    },
    {
      "cell_type": "markdown",
      "metadata": {
        "id": "EZA1HyW2OHXP"
      },
      "source": [
        "## **Dot Product / Inner Product**"
      ]
    },
    {
      "cell_type": "markdown",
      "metadata": {
        "id": "IzpMTovDbQCN"
      },
      "source": [
        "If you recall the dot product from laboratory activity before, we will try to implement the same operation with matrices. In matrix dot product we are going to get the sum of products of the vectors by row-column pairs. So if we have two matrices $X$ and $Y$:\n",
        "\n",
        "$$X = \\begin{bmatrix}x_{(0,0)}&x_{(0,1)}\\\\ x_{(1,0)}&x_{(1,1)}\\end{bmatrix}, Y = \\begin{bmatrix}y_{(0,0)}&y_{(0,1)}\\\\ y_{(1,0)}&y_{(1,1)}\\end{bmatrix}$$\n",
        "\n",
        "The dot product will then be computed as:\n",
        "$$X \\cdot Y= \\begin{bmatrix} x_{(0,0)}*y_{(0,0)} + x_{(0,1)}*y_{(1,0)} & x_{(0,0)}*y_{(0,1)} + x_{(0,1)}*y_{(1,1)} \\\\  x_{(1,0)}*y_{(0,0)} + x_{(1,1)}*y_{(1,0)} & x_{(1,0)}*y_{(0,1)} + x_{(1,1)}*y_{(1,1)}\n",
        "\\end{bmatrix}$$\n",
        "\n",
        "So if we assign values to $X$ and $Y$:\n",
        "$$X = \\begin{bmatrix}1&2\\\\ 0&1\\end{bmatrix}, Y = \\begin{bmatrix}-1&0\\\\ 2&2\\end{bmatrix}$$"
      ]
    },
    {
      "cell_type": "markdown",
      "metadata": {
        "id": "7-P_arcWZ3Fi"
      },
      "source": [
        "$$X \\cdot Y= \\begin{bmatrix} 1*-1 + 2*2 & 1*0 + 2*2 \\\\  0*-1 + 1*2 & 0*0 + 1*2 \\end{bmatrix} = \\begin{bmatrix} 3 & 4 \\\\2 & 2 \\end{bmatrix}$$\n",
        "This could be achieved programmatically using `np.dot()`, `np.matmul()` or the `@` operator."
      ]
    },
    {
      "cell_type": "code",
      "metadata": {
        "id": "z7PJaKNbOJNn"
      },
      "source": [
        "X = np.array([\n",
        "    [1,2],\n",
        "    [0,1]\n",
        "])\n",
        "Y = np.array([\n",
        "    [-1,0],\n",
        "    [2,2]\n",
        "])"
      ],
      "execution_count": null,
      "outputs": []
    },
    {
      "cell_type": "code",
      "metadata": {
        "colab": {
          "base_uri": "https://localhost:8080/"
        },
        "id": "7VJIaG5SOSZI",
        "outputId": "6fa0c1ad-eade-47c1-9dca-cc74449b8619"
      },
      "source": [
        "np.dot(X,Y)"
      ],
      "execution_count": null,
      "outputs": [
        {
          "output_type": "execute_result",
          "data": {
            "text/plain": [
              "array([[3, 4],\n",
              "       [2, 2]])"
            ]
          },
          "metadata": {},
          "execution_count": 135
        }
      ]
    },
    {
      "cell_type": "code",
      "metadata": {
        "colab": {
          "base_uri": "https://localhost:8080/"
        },
        "id": "5L5TyUpkOZzv",
        "outputId": "b0e6be1f-6fe8-411c-930f-49157d8723f6"
      },
      "source": [
        "X.dot(Y)"
      ],
      "execution_count": null,
      "outputs": [
        {
          "output_type": "execute_result",
          "data": {
            "text/plain": [
              "array([[3, 4],\n",
              "       [2, 2]])"
            ]
          },
          "metadata": {},
          "execution_count": 136
        }
      ]
    },
    {
      "cell_type": "code",
      "metadata": {
        "colab": {
          "base_uri": "https://localhost:8080/"
        },
        "id": "IHY3yue9OceA",
        "outputId": "4466d014-c159-4f02-d43e-e76368c62255"
      },
      "source": [
        "X @ Y"
      ],
      "execution_count": null,
      "outputs": [
        {
          "output_type": "execute_result",
          "data": {
            "text/plain": [
              "array([[3, 4],\n",
              "       [2, 2]])"
            ]
          },
          "metadata": {},
          "execution_count": 137
        }
      ]
    },
    {
      "cell_type": "code",
      "metadata": {
        "colab": {
          "base_uri": "https://localhost:8080/"
        },
        "id": "OZ87I7TlOeUf",
        "outputId": "56a5de19-d618-41ed-a69b-25c014261141"
      },
      "source": [
        "np.matmul(X,Y)"
      ],
      "execution_count": null,
      "outputs": [
        {
          "output_type": "execute_result",
          "data": {
            "text/plain": [
              "array([[3, 4],\n",
              "       [2, 2]])"
            ]
          },
          "metadata": {},
          "execution_count": 138
        }
      ]
    },
    {
      "cell_type": "markdown",
      "metadata": {
        "id": "SIpjLVx6QsLu"
      },
      "source": [
        "### Sample"
      ]
    },
    {
      "cell_type": "code",
      "metadata": {
        "colab": {
          "base_uri": "https://localhost:8080/"
        },
        "id": "JxKJKcFIOuRc",
        "outputId": "8ad07dde-83bd-4f36-e3db-f7ef6acc4121"
      },
      "source": [
        "craulo1 = np.array([\n",
        "      [1,2,3],\n",
        "      [4,5,6],\n",
        "      [7,8,9]\n",
        "])\n",
        "craulo2 = np.array([\n",
        "      [9,8,7],\n",
        "      [6,5,4],\n",
        "      [3,2,1]\n",
        "])\n",
        "np.dot(craulo1,craulo2)"
      ],
      "execution_count": null,
      "outputs": [
        {
          "output_type": "execute_result",
          "data": {
            "text/plain": [
              "array([[ 30,  24,  18],\n",
              "       [ 84,  69,  54],\n",
              "       [138, 114,  90]])"
            ]
          },
          "metadata": {},
          "execution_count": 139
        }
      ]
    },
    {
      "cell_type": "code",
      "metadata": {
        "colab": {
          "base_uri": "https://localhost:8080/"
        },
        "id": "_QBAKrgNO9GY",
        "outputId": "21881a5d-e88b-4f28-ffca-569b9f6a8601"
      },
      "source": [
        "craulo1.dot(craulo2)"
      ],
      "execution_count": null,
      "outputs": [
        {
          "output_type": "execute_result",
          "data": {
            "text/plain": [
              "array([[ 30,  24,  18],\n",
              "       [ 84,  69,  54],\n",
              "       [138, 114,  90]])"
            ]
          },
          "metadata": {},
          "execution_count": 140
        }
      ]
    },
    {
      "cell_type": "code",
      "metadata": {
        "colab": {
          "base_uri": "https://localhost:8080/"
        },
        "id": "n8buVBDZPKl_",
        "outputId": "29cded67-0f7d-4b4e-8c6b-0117cca75265"
      },
      "source": [
        "craulo1 @ craulo2"
      ],
      "execution_count": null,
      "outputs": [
        {
          "output_type": "execute_result",
          "data": {
            "text/plain": [
              "array([[ 30,  24,  18],\n",
              "       [ 84,  69,  54],\n",
              "       [138, 114,  90]])"
            ]
          },
          "metadata": {},
          "execution_count": 141
        }
      ]
    },
    {
      "cell_type": "code",
      "metadata": {
        "colab": {
          "base_uri": "https://localhost:8080/"
        },
        "id": "B24qMKCqPNbI",
        "outputId": "c7d582fc-56ec-4637-e4d9-0c75c47638b6"
      },
      "source": [
        "np.matmul(craulo1,craulo2)"
      ],
      "execution_count": null,
      "outputs": [
        {
          "output_type": "execute_result",
          "data": {
            "text/plain": [
              "array([[ 30,  24,  18],\n",
              "       [ 84,  69,  54],\n",
              "       [138, 114,  90]])"
            ]
          },
          "metadata": {},
          "execution_count": 142
        }
      ]
    },
    {
      "cell_type": "markdown",
      "metadata": {
        "id": "b5ePPKrmP1Hu"
      },
      "source": [
        "### In matrix dot products there are additional rules compared with vector dot products. Since vector dot products were just in one dimension there are less restrictions. Since now we are dealing with Rank 2 vectors we need to consider some rules:"
      ]
    },
    {
      "cell_type": "markdown",
      "metadata": {
        "id": "x2ohZgc-Q1zW"
      },
      "source": [
        "### **Rule 1: The inner dimensions of the two matrices in question must be the same.**"
      ]
    },
    {
      "cell_type": "markdown",
      "metadata": {
        "id": "6AKrXR2eQBmu"
      },
      "source": [
        "So given a matrix $A$ with a shape of $(a, b)$ where $a$ and $b$ are any integers. If we want to do a dot product between $A$ and another matrix $B$.\n",
        "then matrix $B$ should have a shape of $(b, c)$ where $b$ and $c$ are any integers. So for given the following matrices:\n",
        "\n",
        "$$A = \\begin{bmatrix}2&4\\\\5&-2\\\\0&1\\end{bmatrix}, B = \\begin{bmatrix}1&1\\\\3&3\\\\-1&-2\\end{bmatrix}, C = \\begin{bmatrix}0&1&1\\\\1&1&2\\end{bmatrix}$$\n",
        "\n",
        "So in this case $A$ has a shape of $(3,2)$, $B$ has a shape of $(3,2)$ and $C$ has a shape of $(2,3)$. So the only matrix pairs that is eligible to perform dot product is matrices $A \\cdot C$, or $B \\cdot C$.  "
      ]
    },
    {
      "cell_type": "code",
      "metadata": {
        "colab": {
          "base_uri": "https://localhost:8080/"
        },
        "id": "iBvkLFraRRMf",
        "outputId": "953bdcfa-123f-48ec-a56e-aff1dfc767d3"
      },
      "source": [
        "A = np.array([\n",
        "    [2,4],\n",
        "    [5,-2],\n",
        "    [0,1]\n",
        "])\n",
        "B = np.array([\n",
        "    [1,1],\n",
        "    [3,3],\n",
        "    [-1,-2]\n",
        "])\n",
        "C = np.array([\n",
        "    [0,1,1],\n",
        "    [1,1,2]\n",
        "])\n",
        "print(A.shape)\n",
        "print(B.shape)\n",
        "print(A.shape)"
      ],
      "execution_count": null,
      "outputs": [
        {
          "output_type": "stream",
          "name": "stdout",
          "text": [
            "(3, 2)\n",
            "(3, 2)\n",
            "(3, 2)\n"
          ]
        }
      ]
    },
    {
      "cell_type": "code",
      "metadata": {
        "colab": {
          "base_uri": "https://localhost:8080/"
        },
        "id": "NnDMgDOoRScg",
        "outputId": "d5e32211-5467-49a2-cad1-cad5fea58525"
      },
      "source": [
        "A @ C"
      ],
      "execution_count": null,
      "outputs": [
        {
          "output_type": "execute_result",
          "data": {
            "text/plain": [
              "array([[ 4,  6, 10],\n",
              "       [-2,  3,  1],\n",
              "       [ 1,  1,  2]])"
            ]
          },
          "metadata": {},
          "execution_count": 144
        }
      ]
    },
    {
      "cell_type": "code",
      "metadata": {
        "colab": {
          "base_uri": "https://localhost:8080/"
        },
        "id": "_jGt2eiKRaeP",
        "outputId": "7413cdc9-a42c-4238-cf0e-393e216bd8fd"
      },
      "source": [
        "B @ C"
      ],
      "execution_count": null,
      "outputs": [
        {
          "output_type": "execute_result",
          "data": {
            "text/plain": [
              "array([[ 1,  2,  3],\n",
              "       [ 3,  6,  9],\n",
              "       [-2, -3, -5]])"
            ]
          },
          "metadata": {},
          "execution_count": 145
        }
      ]
    },
    {
      "cell_type": "markdown",
      "metadata": {
        "id": "jJ2uJ5pCR-Rn"
      },
      "source": [
        "If you would notice the shape of the dot product changed and its shape is not the same as any of the matrices we used. The shape of a dot product is actually derived from the shapes of the matrices used. So recall matrix $A$ with a shape of $(a,b)$ and matrix $B$ with a shape of $(b,c)$, $A \\cdot B$ should have a shape $(a,c)$."
      ]
    },
    {
      "cell_type": "code",
      "metadata": {
        "colab": {
          "base_uri": "https://localhost:8080/"
        },
        "id": "3-ADVbSIR-i1",
        "outputId": "2ecc84ea-411f-4901-aec0-d3de83ae58f5"
      },
      "source": [
        "A @ B.T"
      ],
      "execution_count": null,
      "outputs": [
        {
          "output_type": "execute_result",
          "data": {
            "text/plain": [
              "array([[  6,  18, -10],\n",
              "       [  3,   9,  -1],\n",
              "       [  1,   3,  -2]])"
            ]
          },
          "metadata": {},
          "execution_count": 146
        }
      ]
    },
    {
      "cell_type": "code",
      "metadata": {
        "colab": {
          "base_uri": "https://localhost:8080/"
        },
        "id": "olXAVMdiSAQq",
        "outputId": "7278e4ec-6ecc-4c68-de07-48dfd6d63f8d"
      },
      "source": [
        "X = np.array([\n",
        "    [1,2,3,0]\n",
        "])\n",
        "Y = np.array([\n",
        "    [1,0,4,-1]\n",
        "])\n",
        "print(X.shape)\n",
        "print(Y.shape)"
      ],
      "execution_count": null,
      "outputs": [
        {
          "output_type": "stream",
          "name": "stdout",
          "text": [
            "(1, 4)\n",
            "(1, 4)\n"
          ]
        }
      ]
    },
    {
      "cell_type": "code",
      "metadata": {
        "colab": {
          "base_uri": "https://localhost:8080/"
        },
        "id": "nCmrabpVSKB5",
        "outputId": "49ece42d-0fa0-45e3-8433-1bd2fa7b82eb"
      },
      "source": [
        "Y.T @ X"
      ],
      "execution_count": null,
      "outputs": [
        {
          "output_type": "execute_result",
          "data": {
            "text/plain": [
              "array([[ 1,  2,  3,  0],\n",
              "       [ 0,  0,  0,  0],\n",
              "       [ 4,  8, 12,  0],\n",
              "       [-1, -2, -3,  0]])"
            ]
          },
          "metadata": {},
          "execution_count": 148
        }
      ]
    },
    {
      "cell_type": "code",
      "metadata": {
        "colab": {
          "base_uri": "https://localhost:8080/"
        },
        "id": "6FAGDnZrSLDw",
        "outputId": "1d161357-7981-412a-fc2f-9a8a98787ac4"
      },
      "source": [
        "X @ Y.T"
      ],
      "execution_count": null,
      "outputs": [
        {
          "output_type": "execute_result",
          "data": {
            "text/plain": [
              "array([[13]])"
            ]
          },
          "metadata": {},
          "execution_count": 149
        }
      ]
    },
    {
      "cell_type": "markdown",
      "metadata": {
        "id": "d3u3B7I499OW"
      },
      "source": [
        "And you can see that when you try to multiply A and B, it returns ValueError pertaining to matrix shape mismatch.\n",
        "\n"
      ]
    },
    {
      "cell_type": "markdown",
      "metadata": {
        "id": "pGoTPW9IS5kV"
      },
      "source": [
        "### **Rules 2: Dot Product has special properties**"
      ]
    },
    {
      "cell_type": "markdown",
      "metadata": {
        "id": "HBMuxU6FblTy"
      },
      "source": [
        "Dot products are prevalent in matrix algebra, this implies that it has several unique properties and it should be considered when formulating solutions:\n",
        " 1. $A \\cdot B \\neq B \\cdot A$\n",
        " 2. $A \\cdot (B \\cdot C) = (A \\cdot B) \\cdot C$\n",
        " 3. $A\\cdot(B+C) = A\\cdot B + A\\cdot C$\n",
        " 4. $(B+C)\\cdot A = B\\cdot A + C\\cdot A$\n",
        " 5. $A\\cdot I = A$\n",
        " 6. $A\\cdot \\emptyset = \\emptyset$ "
      ]
    },
    {
      "cell_type": "code",
      "metadata": {
        "id": "zb03K6iRTGpI"
      },
      "source": [
        "A = np.array([\n",
        "    [4,3,1],\n",
        "    [5,3,5],\n",
        "    [5,0,4]\n",
        "])\n",
        "B = np.array([\n",
        "    [1,2,3],\n",
        "    [4,3,1],\n",
        "    [9,1,1]\n",
        "])\n",
        "C = np.array([\n",
        "    [2,3,6],\n",
        "    [5,7,8],\n",
        "    [1,2,1]\n",
        "])"
      ],
      "execution_count": null,
      "outputs": []
    },
    {
      "cell_type": "code",
      "metadata": {
        "id": "Me7JY6V1UQhy",
        "colab": {
          "base_uri": "https://localhost:8080/"
        },
        "outputId": "67c90c71-962a-4f04-c0ce-3f75e9939969"
      },
      "source": [
        "np.array_equal(A@B, B@A)"
      ],
      "execution_count": null,
      "outputs": [
        {
          "output_type": "execute_result",
          "data": {
            "text/plain": [
              "False"
            ]
          },
          "metadata": {},
          "execution_count": 151
        }
      ]
    },
    {
      "cell_type": "code",
      "metadata": {
        "colab": {
          "base_uri": "https://localhost:8080/"
        },
        "id": "GD9Ch0A8XN_e",
        "outputId": "fe910e91-c5ed-4d96-a3ba-5642e3ca0ea1"
      },
      "source": [
        "E = A @ (B @ C)\n",
        "E"
      ],
      "execution_count": null,
      "outputs": [
        {
          "output_type": "execute_result",
          "data": {
            "text/plain": [
              "array([[156, 233, 310],\n",
              "       [267, 400, 587],\n",
              "       [171, 259, 377]])"
            ]
          },
          "metadata": {},
          "execution_count": 152
        }
      ]
    },
    {
      "cell_type": "code",
      "metadata": {
        "colab": {
          "base_uri": "https://localhost:8080/"
        },
        "id": "gcBoBGWaXa-h",
        "outputId": "d1d8e55b-c336-458e-f0b2-ffe17a9e59de"
      },
      "source": [
        "F = (A @ B) @ C\n",
        "F"
      ],
      "execution_count": null,
      "outputs": [
        {
          "output_type": "execute_result",
          "data": {
            "text/plain": [
              "array([[156, 233, 310],\n",
              "       [267, 400, 587],\n",
              "       [171, 259, 377]])"
            ]
          },
          "metadata": {},
          "execution_count": 153
        }
      ]
    },
    {
      "cell_type": "code",
      "metadata": {
        "colab": {
          "base_uri": "https://localhost:8080/"
        },
        "id": "F5Ik92IMXdLg",
        "outputId": "c3275e49-8f36-430e-c6dd-ac3bde728fe5"
      },
      "source": [
        "np.array_equiv(E, F)"
      ],
      "execution_count": null,
      "outputs": [
        {
          "output_type": "execute_result",
          "data": {
            "text/plain": [
              "True"
            ]
          },
          "metadata": {},
          "execution_count": 154
        }
      ]
    },
    {
      "cell_type": "code",
      "metadata": {
        "colab": {
          "base_uri": "https://localhost:8080/"
        },
        "id": "ASA-5M8NXjvo",
        "outputId": "dcb4777e-37f4-4294-9990-fa8c7e257d11"
      },
      "source": [
        "AB = np.dot(A,B)\n",
        "AB"
      ],
      "execution_count": null,
      "outputs": [
        {
          "output_type": "execute_result",
          "data": {
            "text/plain": [
              "array([[25, 18, 16],\n",
              "       [62, 24, 23],\n",
              "       [41, 14, 19]])"
            ]
          },
          "metadata": {},
          "execution_count": 155
        }
      ]
    },
    {
      "cell_type": "code",
      "metadata": {
        "colab": {
          "base_uri": "https://localhost:8080/"
        },
        "id": "Zvv5FW-7YOVJ",
        "outputId": "422f749f-b904-4962-b373-e2c3c2d40c3a"
      },
      "source": [
        "BA = np.dot(B,A)\n",
        "BA"
      ],
      "execution_count": null,
      "outputs": [
        {
          "output_type": "execute_result",
          "data": {
            "text/plain": [
              "array([[29,  9, 23],\n",
              "       [36, 21, 23],\n",
              "       [46, 30, 18]])"
            ]
          },
          "metadata": {},
          "execution_count": 156
        }
      ]
    },
    {
      "cell_type": "code",
      "metadata": {
        "colab": {
          "base_uri": "https://localhost:8080/"
        },
        "id": "XpZ_5fHnYQHI",
        "outputId": "e7447a4c-5cc2-4da4-fd68-2b5a305966fd"
      },
      "source": [
        "np.array_equiv(AB,BA)"
      ],
      "execution_count": null,
      "outputs": [
        {
          "output_type": "execute_result",
          "data": {
            "text/plain": [
              "False"
            ]
          },
          "metadata": {},
          "execution_count": 157
        }
      ]
    },
    {
      "cell_type": "code",
      "metadata": {
        "colab": {
          "base_uri": "https://localhost:8080/"
        },
        "id": "A-XNIYmEYTnB",
        "outputId": "494a2ea5-15b5-4ab7-83db-e80639c012d1"
      },
      "source": [
        "BC= np.dot(B,C)\n",
        "BC"
      ],
      "execution_count": null,
      "outputs": [
        {
          "output_type": "execute_result",
          "data": {
            "text/plain": [
              "array([[15, 23, 25],\n",
              "       [24, 35, 49],\n",
              "       [24, 36, 63]])"
            ]
          },
          "metadata": {},
          "execution_count": 158
        }
      ]
    },
    {
      "cell_type": "code",
      "metadata": {
        "colab": {
          "base_uri": "https://localhost:8080/"
        },
        "id": "ScsQZZcoYVHp",
        "outputId": "d3e226f4-9e81-455e-8b8a-af557287edbc"
      },
      "source": [
        "ABC= np.dot(A,BC)\n",
        "ABC"
      ],
      "execution_count": null,
      "outputs": [
        {
          "output_type": "execute_result",
          "data": {
            "text/plain": [
              "array([[156, 233, 310],\n",
              "       [267, 400, 587],\n",
              "       [171, 259, 377]])"
            ]
          },
          "metadata": {},
          "execution_count": 159
        }
      ]
    },
    {
      "cell_type": "code",
      "metadata": {
        "colab": {
          "base_uri": "https://localhost:8080/"
        },
        "id": "M1idSaX4YWOY",
        "outputId": "a2f155d6-e042-4b20-8eb6-1dd4ee5b5a01"
      },
      "source": [
        "ABC1 = np.dot(AB,C)\n",
        "ABC1"
      ],
      "execution_count": null,
      "outputs": [
        {
          "output_type": "execute_result",
          "data": {
            "text/plain": [
              "array([[156, 233, 310],\n",
              "       [267, 400, 587],\n",
              "       [171, 259, 377]])"
            ]
          },
          "metadata": {},
          "execution_count": 160
        }
      ]
    },
    {
      "cell_type": "code",
      "metadata": {
        "colab": {
          "base_uri": "https://localhost:8080/"
        },
        "id": "sdjOPv5HYXf7",
        "outputId": "923f6aff-193a-4669-c164-be68c8116508"
      },
      "source": [
        "np.identity(3)"
      ],
      "execution_count": null,
      "outputs": [
        {
          "output_type": "execute_result",
          "data": {
            "text/plain": [
              "array([[1., 0., 0.],\n",
              "       [0., 1., 0.],\n",
              "       [0., 0., 1.]])"
            ]
          },
          "metadata": {},
          "execution_count": 161
        }
      ]
    },
    {
      "cell_type": "code",
      "metadata": {
        "colab": {
          "base_uri": "https://localhost:8080/"
        },
        "id": "0B629uWBYoGy",
        "outputId": "98dd9322-83bb-4c7a-e6a9-634960f17ea7"
      },
      "source": [
        "A.dot(np.eye(3))"
      ],
      "execution_count": null,
      "outputs": [
        {
          "output_type": "execute_result",
          "data": {
            "text/plain": [
              "array([[4., 3., 1.],\n",
              "       [5., 3., 5.],\n",
              "       [5., 0., 4.]])"
            ]
          },
          "metadata": {},
          "execution_count": 162
        }
      ]
    },
    {
      "cell_type": "code",
      "metadata": {
        "id": "85cJoXWEYxEh"
      },
      "source": [
        ""
      ],
      "execution_count": null,
      "outputs": []
    },
    {
      "cell_type": "markdown",
      "metadata": {
        "id": "oX1s43oGZBKE"
      },
      "source": [
        "## ***Determinant***"
      ]
    },
    {
      "cell_type": "code",
      "metadata": {
        "colab": {
          "base_uri": "https://localhost:8080/"
        },
        "id": "cvsIYutBZB_4",
        "outputId": "b5b0b92c-df3e-4d96-d2b2-d51422baf7db"
      },
      "source": [
        "A = np.array([\n",
        "    [1,4],\n",
        "    [0,3]\n",
        "])\n",
        "np.linalg.det(A)"
      ],
      "execution_count": null,
      "outputs": [
        {
          "output_type": "execute_result",
          "data": {
            "text/plain": [
              "3.0000000000000004"
            ]
          },
          "metadata": {},
          "execution_count": 163
        }
      ]
    },
    {
      "cell_type": "code",
      "metadata": {
        "colab": {
          "base_uri": "https://localhost:8080/"
        },
        "id": "l7nDz-ThZb5A",
        "outputId": "4420efe1-375b-4736-bfcb-247b072b6c5b"
      },
      "source": [
        "B = np.array([\n",
        "    [1,5,2],\n",
        "    [3,-1,-1],\n",
        "    [0,-2,1]\n",
        "])\n",
        "np.linalg.det(B)"
      ],
      "execution_count": null,
      "outputs": [
        {
          "output_type": "execute_result",
          "data": {
            "text/plain": [
              "-30.000000000000014"
            ]
          },
          "metadata": {},
          "execution_count": 164
        }
      ]
    },
    {
      "cell_type": "code",
      "metadata": {
        "colab": {
          "base_uri": "https://localhost:8080/"
        },
        "id": "JGrhb8AcZmEZ",
        "outputId": "1a5e1fd5-4002-41f2-b479-2d22fd985d56"
      },
      "source": [
        "## Now other mathematics classes would require you to solve this by hand, \n",
        "## and that is great for practicing your memorization and coordination skills \n",
        "## but in this class we aim for simplicity and speed so we'll use programming\n",
        "## but it's completely fine if you want to try to solve this one by hand.\n",
        "C = np.array([\n",
        "    [1,3,5,6],\n",
        "    [0,3,1,3],\n",
        "    [3,1,8,2],\n",
        "    [5,2,6,8]\n",
        "])\n",
        "np.linalg.det(C)"
      ],
      "execution_count": null,
      "outputs": [
        {
          "output_type": "execute_result",
          "data": {
            "text/plain": [
              "-235.0000000000002"
            ]
          },
          "metadata": {},
          "execution_count": 165
        }
      ]
    },
    {
      "cell_type": "markdown",
      "metadata": {
        "id": "JBkj8YQxaQZh"
      },
      "source": [
        "## ***Inverse***"
      ]
    },
    {
      "cell_type": "markdown",
      "metadata": {
        "id": "81V6dyQN-Yra"
      },
      "source": [
        "The inverse of a matrix is another fundamental operation in matrix algebra. Determining the inverse of a matrix let us determine if its solvability and its characteristic as a system of linear equation — we'll expand on this in the nect module. Another use of the inverse matrix is solving the problem of divisibility between matrices. Although element-wise division exists but dividing the entire concept of matrices does not exists. Inverse matrices provides a related operation that could have the same concept of \"dividing\" matrices.\n",
        "\n",
        "Now to determine the inverse of a matrix we need to perform several steps. So let's say we have a matrix $M$:\n",
        "$$M = \\begin{bmatrix}1&7\\\\-3&5\\end{bmatrix}$$\n",
        "First, we need to get the determinant of $M$.\n",
        "$$|M| = (1)(5)-(-3)(7) = 26$$\n",
        "Next, we need to reform the matrix into the inverse form:\n",
        "$$M^{-1} = \\frac{1}{|M|} \\begin{bmatrix} m_{(1,1)} & -m_{(0,1)} \\\\ -m_{(1,0)} & m_{(0,0)}\\end{bmatrix}$$\n",
        "So that will be:\n",
        "$$M^{-1} = \\frac{1}{26} \\begin{bmatrix} 5 & -7 \\\\ 3 & 1\\end{bmatrix} = \\begin{bmatrix} \\frac{5}{26} & \\frac{-7}{26} \\\\ \\frac{3}{26} & \\frac{1}{26}\\end{bmatrix}$$\n",
        "For higher-dimension matrices you might need to use co-factors, minors, adjugates, and other reduction techinques. To solve this programmatially we can use `np.linalg.inv()`."
      ]
    },
    {
      "cell_type": "code",
      "metadata": {
        "id": "0yWeAV0XaSKw",
        "colab": {
          "base_uri": "https://localhost:8080/"
        },
        "outputId": "b2aa7e85-49c1-4308-fa08-1082b35a8770"
      },
      "source": [
        "M = np.array([\n",
        "    [1,7],\n",
        "    [-3, 5]\n",
        "])\n",
        "\n",
        "np.array(M @ np.linalg.inv(M), dtype=int)"
      ],
      "execution_count": null,
      "outputs": [
        {
          "output_type": "execute_result",
          "data": {
            "text/plain": [
              "array([[1, 0],\n",
              "       [0, 1]])"
            ]
          },
          "metadata": {},
          "execution_count": 166
        }
      ]
    },
    {
      "cell_type": "code",
      "metadata": {
        "colab": {
          "base_uri": "https://localhost:8080/"
        },
        "id": "c4-sXhRN-bf1",
        "outputId": "ce0113c8-f70e-4d17-fd93-d90a40c35c1f"
      },
      "source": [
        "P = np.array([\n",
        "              [6, 9, 0],\n",
        "              [4, 2, -1],\n",
        "              [3, 6, 7]\n",
        "])\n",
        "Q = np.linalg.inv(P)\n",
        "Q"
      ],
      "execution_count": null,
      "outputs": [
        {
          "output_type": "execute_result",
          "data": {
            "text/plain": [
              "array([[-0.12578616,  0.39622642,  0.05660377],\n",
              "       [ 0.19496855, -0.26415094, -0.03773585],\n",
              "       [-0.11320755,  0.05660377,  0.1509434 ]])"
            ]
          },
          "metadata": {},
          "execution_count": 167
        }
      ]
    },
    {
      "cell_type": "code",
      "metadata": {
        "colab": {
          "base_uri": "https://localhost:8080/"
        },
        "id": "ucl1qJDu-hVT",
        "outputId": "a14ab5ab-1630-4441-dc50-92f19985f1a4"
      },
      "source": [
        "P @ Q"
      ],
      "execution_count": null,
      "outputs": [
        {
          "output_type": "execute_result",
          "data": {
            "text/plain": [
              "array([[ 1.00000000e+00, -5.55111512e-17, -6.93889390e-18],\n",
              "       [ 8.32667268e-17,  1.00000000e+00, -2.77555756e-17],\n",
              "       [ 2.77555756e-17, -1.38777878e-17,  1.00000000e+00]])"
            ]
          },
          "metadata": {},
          "execution_count": 168
        }
      ]
    },
    {
      "cell_type": "code",
      "metadata": {
        "colab": {
          "base_uri": "https://localhost:8080/"
        },
        "id": "s3V3XgM6-kNS",
        "outputId": "c1bf6a56-795d-4baa-ceae-5b382f45a1d6"
      },
      "source": [
        "## And now let's test your skills in solving a matrix with high dimensions:\n",
        "N = np.array([\n",
        "    [18,5,23,1,0,33,5],\n",
        "    [0,45,0,11,2,4,2],\n",
        "    [5,9,20,0,0,0,3],\n",
        "    [1,6,4,4,8,43,1],\n",
        "    [8,6,8,7,1,6,1],\n",
        "    [-5,15,2,0,0,6,-30],\n",
        "    [-2,-5,1,2,1,20,12],\n",
        "])\n",
        "N_inv = np.linalg.inv(N)\n",
        "np.array(N @ N_inv,dtype=int)"
      ],
      "execution_count": null,
      "outputs": [
        {
          "output_type": "execute_result",
          "data": {
            "text/plain": [
              "array([[0, 0, 0, 0, 0, 0, 0],\n",
              "       [0, 0, 0, 0, 0, 0, 0],\n",
              "       [0, 0, 1, 0, 0, 0, 0],\n",
              "       [0, 0, 0, 1, 0, 0, 0],\n",
              "       [0, 0, 0, 0, 0, 0, 0],\n",
              "       [0, 0, 0, 0, 0, 0, 0],\n",
              "       [0, 0, 0, 0, 0, 0, 1]])"
            ]
          },
          "metadata": {},
          "execution_count": 169
        }
      ]
    },
    {
      "cell_type": "markdown",
      "metadata": {
        "id": "GtQIrKts-pXV"
      },
      "source": [
        "To validate the wether if the matric that you have solved is really the inverse, we follow this dot product property for a matrix $M$:\n",
        "$$M\\cdot M^{-1} = I$$"
      ]
    },
    {
      "cell_type": "code",
      "metadata": {
        "colab": {
          "base_uri": "https://localhost:8080/"
        },
        "id": "RlfNSerp-meK",
        "outputId": "0f99f2bb-4d74-42c9-d337-0db7c53e4abe"
      },
      "source": [
        "squad = np.array([\n",
        "    [1.0, 1.0, 0.5],\n",
        "    [0.7, 0.7, 0.9],\n",
        "    [0.3, 0.3, 1.0]\n",
        "])\n",
        "weights = np.array([\n",
        "    [0.2, 0.2, 0.6]\n",
        "])\n",
        "p_grade = squad @ weights.T\n",
        "p_grade"
      ],
      "execution_count": null,
      "outputs": [
        {
          "output_type": "execute_result",
          "data": {
            "text/plain": [
              "array([[0.7 ],\n",
              "       [0.82],\n",
              "       [0.72]])"
            ]
          },
          "metadata": {},
          "execution_count": 170
        }
      ]
    },
    {
      "cell_type": "markdown",
      "metadata": {
        "id": "y0RFeWPW-v2p"
      },
      "source": [
        "# ***ACTIVITY***"
      ]
    },
    {
      "cell_type": "markdown",
      "metadata": {
        "id": "0kmUVh1Y_CQb"
      },
      "source": [
        "## **Task 1**\n",
        "Prove and implement the remaining 6 matrix multiplication properties. You may create your own matrices in which their shapes should not be lower than  (3,3) . In your methodology, create individual flowcharts for each property and discuss the property you would then present your proofs or validity of your implementation in the results section by comparing your result to present functions from NumPy."
      ]
    },
    {
      "cell_type": "code",
      "metadata": {
        "id": "70TwsIVX_Hox"
      },
      "source": [
        "A = np.array([\n",
        "    [6,9,6],\n",
        "    [4,2,0],\n",
        "    [1,8,1]\n",
        "])\n",
        "B = np.array([\n",
        "    [4,2,5],\n",
        "    [3,1,7],\n",
        "    [4,5,4]\n",
        "]) \n",
        "C = np.array([\n",
        "    [8,6,7],\n",
        "    [4,3,1],\n",
        "    [5,3,5]\n",
        "])"
      ],
      "execution_count": null,
      "outputs": []
    },
    {
      "cell_type": "code",
      "metadata": {
        "colab": {
          "base_uri": "https://localhost:8080/"
        },
        "id": "VI-h_Bo7GgVt",
        "outputId": "0fc86370-214a-445b-f9ca-8ffbcde103fd"
      },
      "source": [
        "#1\n",
        "A1 = A@B\n",
        "A1"
      ],
      "execution_count": null,
      "outputs": [
        {
          "output_type": "execute_result",
          "data": {
            "text/plain": [
              "array([[ 75,  51, 117],\n",
              "       [ 22,  10,  34],\n",
              "       [ 32,  15,  65]])"
            ]
          },
          "metadata": {},
          "execution_count": 82
        }
      ]
    },
    {
      "cell_type": "code",
      "metadata": {
        "colab": {
          "base_uri": "https://localhost:8080/"
        },
        "id": "mC5nwnEqGyYc",
        "outputId": "4e757e59-c62d-447f-e7a7-26b39d0ad90d"
      },
      "source": [
        "B1 = B@A\n",
        "B1"
      ],
      "execution_count": null,
      "outputs": [
        {
          "output_type": "execute_result",
          "data": {
            "text/plain": [
              "array([[37, 80, 29],\n",
              "       [29, 85, 25],\n",
              "       [48, 78, 28]])"
            ]
          },
          "metadata": {},
          "execution_count": 83
        }
      ]
    },
    {
      "cell_type": "code",
      "metadata": {
        "colab": {
          "base_uri": "https://localhost:8080/"
        },
        "id": "ZpL7fRTBG0lM",
        "outputId": "dfac498f-a7f1-42a6-dd19-5bc8f6e6ca59"
      },
      "source": [
        "np.array_equal(A1,B1)"
      ],
      "execution_count": null,
      "outputs": [
        {
          "output_type": "execute_result",
          "data": {
            "text/plain": [
              "False"
            ]
          },
          "metadata": {},
          "execution_count": 84
        }
      ]
    },
    {
      "cell_type": "markdown",
      "metadata": {
        "id": "ocNU7of4dyOh"
      },
      "source": [
        "![1.png](data:image/png;base64,iVBORw0KGgoAAAANSUhEUgAAAbkAAAM/CAYAAABMIqzEAAAAAXNSR0IArs4c6QAAAARnQU1BAACxjwv8YQUAAAAJcEhZcwAADsQAAA7EAZUrDhsAAAbBdEVYdG14ZmlsZQAlM0NteGZpbGUlMjBob3N0JTNEJTIyYXBwLmRpYWdyYW1zLm5ldCUyMiUyMG1vZGlmaWVkJTNEJTIyMjAyMS0xMC0yM1QxMyUzQTMyJTNBNTAuNzQ0WiUyMiUyMGFnZW50JTNEJTIyNS4wJTIwKFdpbmRvd3MlMjBOVCUyMDEwLjAlM0IlMjBXaW42NCUzQiUyMHg2NCklMjBBcHBsZVdlYktpdCUyRjUzNy4zNiUyMChLSFRNTCUyQyUyMGxpa2UlMjBHZWNrbyklMjBDaHJvbWUlMkY5NS4wLjQ2MzguNTQlMjBTYWZhcmklMkY1MzcuMzYlMjIlMjBldGFnJTNEJTIyYm1JRlRpcU1qNU1WZTItcUZPU0YlMjIlMjB2ZXJzaW9uJTNEJTIyMTUuMy4yJTIyJTIwdHlwZSUzRCUyMmdvb2dsZSUyMiUzRSUzQ2RpYWdyYW0lMjBpZCUzRCUyMjdEYmpGVEZ6eUVwZGFXNlh0QlQxJTIyJTIwbmFtZSUzRCUyMlBhZ2UtMSUyMiUzRTVWbGJjNkl3RlA0MVBOcEJJZ2lQM3JydFRMZmpqSjNaZGQ4aVJNaHVJRFFFTCUyRjMxR3lRSUdHOGRXNjMyU2ZMbCUyRnAzem5lUkVEZlRDeFE4RzQlMkJBbjlSRFJETjFiYUtDdkdVYlRhZ1B4a3lITEhIRkFLd2Q4aGozWnFBUkclMkJBMUpVSmRvaWoyVTFCcHlTZ25IY1IxMGFSUWhsOWN3eUJpZDE1dE5LYW5QR2tNZktjREloVVJGZjJHUEJ6bHFHJTJCMFNmMERZRDRxWm01YVQxNFN3YUN4M2tnVFFvJTJGTUtCQVlhNkRGS2VmNFZMbnFJWk9RVnZPVDk3bmZVcmhmR1VNU1A2VEFjek1idSUyRkdYTSUyQjYlMkZQNmZOajd3SCUyRlNSdE51WThaSktuY3NWd3RYeFlVSUU4d0lvdVU4WUQ2TklKa1VLSmRSdFBJUTlrOHVpaVZiWjRvalFYWUZPQmZ4UGxTbWhlbW5Bb280Q0dSdGZtYzJVUTdOeWVoaEtiTVJmdDJaRXN2Z2N4SGZFJTJGRGloR0U5eUlhSXM2V29pTkRCSEk4cTY4RVNqZnkxJTJCMUtwc1dISlBzOXhOc0s4U094Wks2eVQ0anc5WXpsZVlBNUdzVnd0ZjI1a0Z1ZHd5a21wRWNKWmF0JTJCd0lQSW5yb0NUemlqJTJGMUNseG5KdE5KbXVXWjhoeHRGaVAlMkI4cVM3SURzS1IzUzNtM1pIRmVhcVZaQ0NDbzZNVFdQNHRYNTlZY3VxRHZzRU1ibDNUb1lwa1Y0aCUyQmpPT1Y1S0dUWUZWRjgweEFpSk1iWnA2QUZFb0lJOVJrTUJYc3hZbGlzQ3JITnVtRlpjVmdPQzFTY0oxOUdIdXRqN1pBJTJCck0lMkZTUjdHSEc5S0hjYXclMkIyaGZWaDZFUSUyRjRReWRYVEVqUG9LMER0YVN4ZlVpQW4wYm9sMkJkcFJqSFFOcHdFd0wlMkI3dTRPYmN2WDJzdXpzbnV2dXFhNGN4dUt3MGlDbU9lRklaZVpnQnBRc1lHeTVnMW0lMkJsNGlNZnNUVHBlbWtuV0xtbFdQbVpiclh6RTV5SUJLVm1HMGl3SDRsdlY1aGlkYkJrRXNBaUElMkJqSWloQjdYdTRHS01GdmNMSWFMM01FeVlVWTNPeHFabiUyQmZobVI2SWp0cjY2U2c2Z0Y3SEhpbjRocjZuZGwyblBvaGs1ZmVaMmZGa0kxbXF6WnF3NmlQUUtmVEJIRkZvQjloVGZQYmFoYnNpSzluT3FJc2hmanhsbHZiZGVySVBLUWpZSnZiUGY1VUlkbVgwcEdhMno4bTlRdUh1R1dBZThYQUxLRGhKRTIlMkJhc3BwYjZTY3RuckpzTSUyQlpjaHBxS24lMkZ0OGNvNU5sNmRtbkolMkJ5QjNEYnAzampxRSUyQkxBeFp2aXpOc0Y3VDdCbXZldzlKZ3NxaTRnWTNuJTJGQWFldDAwbG5IcERBQ283eEtYVUtmZ2p5MSUyRlZ3dmpiTEE3c3lqMkYzTHd2TFNVcFE5VU5TamV6OCUyQmpha1cyNWtiZ2Jqc2JOczhYSm51VlpuOXZlTmljNXl6aEFhanZLbXA0ZUdIcHQ0NE9SVEw0aGFLRCUyQmlvemlEdzFRRnpWSTd6OWlhJTJCTW9saiUyQlpaV0xwJTJGempEd3olMkJBdyUzRCUzRCUzQyUyRmRpYWdyYW0lM0UlM0MlMkZteGZpbGUlM0Xpxum0AABJl0lEQVR4Xu3dCXxdZbn3/Stp5nlOm7Rpm84jbSllKvNRoCgoKAoKirPU83AY5D2eAxxe5Xn1RcBTFfDxiKggoIIMSgUUEChToQOdx3RK0mZukmZqhj7rWl0r3U2TNGn3sNa9f18+i+y19s7Obu7k/ue61rBjDlkEwLC1dXRJzf42qW9ql4bmDntpajloL60Hu6StvUsOdurSI909PdJj/6bp/2IkNkZkxIhYSYizlvg4SU6Kk9SEOElPTZAMa8lKS5ScDF2SJD8rWZIT4/STAQwTIQcMwd66Ftld1Sx7qg9IRU2LVNW32OGVZYVQZmqSFU6JVlAlSIq9xEuStSTGj5D4uDhriZURsbESYwVbjPU//ZXT3zoNvs4uXbqko7Nb2ts7pdVeDloBqWGpodku+60QTYiPlcKcVCnOT5UxBWlSUpguo3JTnVcHYCCEHNCPsspG2by7QbZXNMmufU2SmpIgBdlpkpudKrmZqZKTmSzpKUnOo0OvubVd6hvbpK6xRer3a8gekJbWgzJ2ZIZMKM6QKSXZUlqU6TwagIuQAyzNVmCs31Eva7bXyZbd9ZKblSpF+RkyKj/TWjIkKcF77cL2g12yt6bJWhqt6rLJDr/JJTkye0KuzBifY4VwgvNIIHoRcohaLW2dsnJLjazaWiu7rWptwpgcGV2YLWOLsiU5Md55lH+0dXTKrsoGKa+yKtA99VJiVXlzJ+XJvMn5kprsv38PEAyEHKLO+h118u76Klm3vUamjM+X0uI8KR2d69xrjrLyOtlRUSubdtTIzAn5cuaMQqvCM+/fCQyGkENU0AM73vyoUt5dt1cS4+OtcCuQyWPzJT5uhPMIc3V2dcuWXTWyeUe19X3olDNnjpJzTymyD4wBTEfIwWh6OP+rK8rlrTUVMnVsnkwtHSmj8jKce6PP3tom2VS2TzbtqpVzTimWi+aNtk9ZAExFyMFILe2d8vL7e+SN1Xtk7tQimTWpyJrMw3c0pNfpqQlrt1TKqs2Vct6cMXLx6WMkNYn9djAPIQfjvLx8t7yyfJcVbKNkzpQiSU1OdO5BXy1tHbLaCrq1W/fKx04rkUtOH+vcA5iBkIMxPtpWK39ZtkNys1Pk1Bklkp2e4tyD42lobpUV63dLXUOrfHLheDllYp5zD+BvhBx870Bbpzzzz+321UjOmD3OPgUAJ0ZPQXhvzU77qipXnT9B0jj1AD5HyMHX9Dy3P72+VWaWjpQFs2m1BcvyNbtkXdk++ewFk+zz7AC/IuTgW398fZts2tUg55w6QUYXcEmrYCuvbpS3VmyXaWOzrbCb6GwF/IWQg+80NLXLb1/aLMkpCXLeqRPtix8jNPQi0m98uE3a2g7Kly6ZItkZHKEKfyHk4CvbKxrl0aUbZfbkUTJ36mhnK0Jt1aZyWbNlr9ywaJpMKKZqhn8QcvCN1Vuq5Td/2yiXnD1VJozh6L9w276nVl56e5N8edF0mTOJ/XTwB0IOvvDBxmp5+p9b5dKF06SY/W8RU1HdKH9btlE+c/4kOW1agbMV8C5CDp73wcYqeeaN7fKJc6dLYW66sxWRUlXXLH99c4Ncdd4EK+gKna2AN7HHHp62pqxW/vDqFivgZhBwHqHjoOOh47LWGh/Aywg5eNae6mZ59MUNsugcreDSnK3wAh0PHZdfW+Oj4wR4FSEHT9J3vf7N3zbJBadNlDEjs5yt8BIdlwut8dFx0vECvIiQgyc9/vIWGVeUI9PGs8/Hy6Za46PjpOMFeBEhB895fVWFNLYetK9DCe/TcdLx0nEDvIaQg6fU7G+T597cJgvnTXC2wA90vHTcdPwALyHk4CnPvlkmZ88ZJzkZvE2On+h4nT1nvD1+gJcQcvCMdWV1Ut3QxuW6fGru1GJ7/HQcAa8g5OAZ+o7ec6cTcH6m46fjCHgFIQdP0L/+O7sOyeQSronoZzp+nd2HqObgGYQcPOGfqytkxsRRzhr8bPqEUfZ4Al5AyCHiqhpapaLmgEwdzwV/TTDNGkcdTx1XINIIOUTcyk3VMmUsbUqT6Hiu3FzjrAGRQ8gh4tZsr5Nxo3l/OJPoeH60jYs3I/IIOUTU/gMdUtfULsX5Gc4WmEDHs94aVx1fIJIIOURUWWWjjC4k4Ew0uiDDHl8gkgg5RNSufc2Sn8Pb6JioIDfNHl8gkgg5RNTe+lbJyfR3yD34wD0yeWRc77Jy+TvOPYfve+GZJ5y1oTvRz/OSbGtcdXyBSCLkEFH1je2SmZbkrPmPhlHVvkpZs7NZtuzrkpffXi93f+87RwVdtNJx1fEFIomQQ0Q1tx6U1OQEZ81f2tvb7ICbf/pCSUpKtreNnzBFLr7sSnl32Wt2Jbbk3rvltsXX91Zl+tGt+C6/aJ7s2L7Zfp67br9R/u2b19rbf3rv/3vM5/mRjquOLxBJI+62OLeBsPvrOzvkzFljJSYmxtniH3Fx8dLc1GiHUWxsrCw481x7u37UZcr0Wfb2z177Fbn8qmvt6u6xX/9cnv7bO/LdO38k9XU1snXzBpl32lny1uuvSMm4UnnsmX/I6Weff9Tn+dUIa0zfXbNLLj2D9wVE5FDJIaIOHRKJifVfwLk0hJZvrJKVH7zTW6FpC7M/8xacJY88uVSysnPt9TFjS+2Prr7rfqfjquMLRBIhh4jSAu5Qj79nQg0tDS/dJ6f75rSF2V+b0W1LumGoFWCg0WPMqnh0XH1YoMMwhBwiKikhTjq6up01f9nfUGeHln506b453Ue3Z9exbx76yovP2h/dg1Tue/B39rqpdFx1fIFIIuQQUekpCdLS5s+DE7SCKxxZJL9/9GFny+Hge/7px4/benQfZzIdVx1fIJIIOURUbmaSNB7w72Hmi2+5w/7otiAXTCuUKz7zxd4DRjTs3KMkz73wYqnYs1Nmj0uXW2+8Tq750rfs1mZHe5v92ECBn+dXOq451vgCkRRzyOLcBsLu2Te3S0d3rJw6vcTZAlOs2LBbEkf0yKfPneBsAcKPSg4RNXZkulTXH3DWYJLqugP2+AKRRMghokqLMqWiqslZg0nKq5vs8QUiiZBDRGWlJUpORpJU1BB0JtHx1HHV8QUiiZBDxM2emCc7K3iDTZPoeJ5ijSsQaYQcIm7elHzZvLPGWYMJdDx1XIFII+QQcYXZKVKcnyabdlQ7W+Bnm3ZW2+Op4wpEGiEHTzh/TrGs37bXWYOf6TjqeAJeQMjBE2aW5kp8XIxs2U3b0s90/OJHxNjjCXgBIQfPuHhBiazaUO6swY90/HQcAa8g5OAZ+td/QXayrNpE0PmRjlu+NX5UcfASQg6e8ulzS+Xt1TulvqnV2QI/0PHScbvSGj/ASwg5eEp+VrJccc4EWbZyu7MFfqDj9alzJ9rjB3gJIQfPuXDeaMlMSZD31ux0tsDLdJx0vC6YyxGV8B5CDp70xYsny87Ketm0o8rZAi/S8dlZUW+PF+BFhBw8Sd9R+suXTpXXPtgme/btd7bCS3RcdHy+vGgq7wAOzyLk4FljCtLlhkXTZelbG6Sqjrfj8RIdDx0XHR8dJ8CrCDl42uwJefK5iybLX99cb02szc5WRJKOg46HjouOD+BlvDM4fGH5hip5+o1tsmjhNCku4D3KIqWiulGWLtsonz1/kpw2rcDZCngXIQffWL2lRn7ztw1y8dlTZeIYKohw27anVl5+e5N8+dLpMmcy7zAAfyDk4CvbKxrl0aUbZfbkUTJ36mhnK0Jt9aZy+WjLXrlh0TSZUEwlDf8g5OA7DU3t8tuXNktycoKcN3+ijIhl13KodPf0yBsrtklb60H50iVTJDsjybkH8AdCDr71p9e3ycadDXLO/Akymv10QVde3ShvrdguU8dmy9UXTHS2Av5CyMHXVm6pscJuq8wsHSkLZo91tuJkLV+zS9aV7ZPPXjBJ5rH/DT5GyMH3DrR1yjP/3C57qg/IGbPHydiibOceDNeuygb7Ml1jCtLkqvMnSFpyvHMP4E+EHIyxZnutPP/WDsnLTpFTZ5RIdnqKcw+Op6G5VVas3y21Da1yxTnjOf8NxiDkYJyX398tr3ywS2ZPGiWnTCmS1ORE5x701dLWIR9trpQ1W/fKx04rkUtOp+ULsxByMFJLe6cVdnvkjdV7ZK4VdLMmF0lGKkcGuppa2mXt1kpZtalSzpszRi4+fYykJtGahHkIORitqeWgvLqiXN5aUyFTx+bJ1NKRMiovw7k3+uytbZJNZftk065aOWd2sVx06mgr/BOcewHzEHKICh2d3fLmR5Xy7rq9khgfL1PGFcjkcfkSHzfCeYS5Oru6ZcvOGtm8s9r6PnTKmTNHybmnFFnfB/P/7QAhh6izfkedvLu+StZtr5Gp4/NlfHGelI7Ode41R1l5neyoqJVNO2pk5oR8OXNGocwYb96/ExgMIYeo1dLWKSu3VMuqrXWye1+TFXQ5MmZktn0KQnKi//ZPtXV02qcAlFc1yPY99VIyMkPmTsqVeZMLJJVTARClCDnA0tx6UNaV1cvasjrZsrtecrNSpaggQ0blZcqo/AxPvilo+8Eu2VvTZC2NUml9rNvfIpNLcmRWaa7MLM2R9BT2tQGEHNCPsspG2bx7v31B6F1WlZdqBUZBTprkZqbaAZiTmWyFSPiO1mxubZf6xjY7yHSpbjggLVYwj7WqtYnFmVa4ZUlpEZc2A/oi5IAh2FvXIrurmu2rqlTUtEhVfYsc7OyRrIwkyUxNkvTURElOSpAUe4mXJGvRAzvi4+KsJda+iHRMjPULZ/1Pf+X0t04vftzZpUuXfWBMe3untNrLQWmzluaWDmlsaZf9Te2SEB8rhTmpUpyfal+NpKQwXUblpjqvDsBACDngBLV1dEnN/japt0KoobnDXvSUhWZraTnYZQVVlxWE1mIFWXd3j/TYv2n6vxiJtQJvxIhYSbACMCE+zgrIOElJiLMP59clOz3RXnKsEM3PSpbkRO+1SwE/IOSAMIqJibWquB5nDUCo8UZcQFjxNyUQToQcAMBYhBwAwFiEHADAWIQcAMBYhBwAwFiEHADAWIQcAMBYhBwAwFiEHADAWIQcAMBYhBwAwFiEHADAWIQcAMBYhBwAwFiEHADAWIQcAMBYhBwAwFiEHADAWIQcAMBYhBwAwFiEHADAWIQcAMBYhBwAwFiEHADAWIQcAMBYhBwAwFiEHADAWIQcAMBYhBwAwFiEHADAWIQcAMBYhBwAwFiEHADAWIQcAMBYhBwAwFiEHADAWIQcAMBYhBwAwFiEHADAWIQcAMBYhBwAwFiEHADAWIQcAMBYhBwAwFiEHADAWIQcAMBYhBwAwFiEHADAWIQcAMBYhBwAwFiEHADAWIQcAMBYhBwAwFiEHADAWIQcAMBYhBwAwFiEHADAWIQcAMBYhBwAwFiEHADAWIQcAMBYhBwAwFiEHADAWIQcAMBYhBwAwFiEHADAWIQcAMBYhBwAwFiEHADAWIQcAMBYhBwAwFiEHADAWIQcAMBYhBwAwFiEHADAWIQcAMBYhBwAwFiEHADAWIQcAMBYhBwQQvfff78kJyfLkiVLnC2H6bpu1/sBhE7MIYtzG0CQNTc3S25ursTFxUlKSorU1dXZ662trdLV1WWvp6enO48GEGxUckAIaYDdeuut0t3dbQea0o+6rtsJOCC0qOSAENNqLj8/Xzo6OpwtIomJiVJTU0PIASFGJQeEmAbZzTffLAkJCfa6ftR1Ag4IPSo5IAwCqzmqOCB8qOSAMHCrufj4eKo4IIyo5IAw0WruhhtukEcffZSQA8KEkIMx2g92yYPPrpOdlfudLYikQ9Z/40dly+IrZ0lSwghnKxBehByMsXxjlby3vlouPWe6swWRtHFHteytqpNvXjHT2QKEH/vkYIzVW2tkfHGus4ZI21lRK3Mn5TlrQGQQcjCCtirXbq+V0jFMql5wsLNLtu6uk9kT850tQGQQcjDC2u11MqkkTxLi2ffjBdvL62VmaR774hBxhByMsEpblUU5zhoijVYlvIKQg+/RqvQWWpXwEkIOvker0lu0VTlrQj6tSngCIQffo1XpLdqqnDORo1zhDYQcfI1WpbfQqoTXEHLwNVqV3lJGqxIeQ8jB12hVessOWpXwGEIOvkWr0ltoVcKLCDn4Fq1Kb6FVCS8i5OBbtCq9hVYlvIiQgy/RqvQWWpXwKkIOvkSr0ltoVcKrCDn4Eq1Kb6FVCa8i5OA77Qe7aVV6CK1KeBkhB9/RgKNV6R20KuFlhBx8h1alt9CqhJcRcvAVWpXecrCzm1YlPI2Qg6+s2VYjk0pyaVV6RFl5Ha1KeBohB19Zva1WxhdTxXkFrUp4HSEH3+htVY5mUvUCWpXwA0IOvkGr0ltoVcIPCDn4xnBblQ8+cI+88MwTzlpw7di+WW7+1hdkf0OdsyV49Dn1ufVr9NXe3iZ33X6jrFz+jrMlcmhVwg8IOfgCrcrDkpKS5fv3PiTzFpzlbIkMWpXwC0IOvnCyrUqtfLQ60mXyyDi5/KJ5dqXkVkZ/eOx/7G16n1v99a3W9Dn0sfv2Vsg9d9wsLz73B7n1xuuOquYGej6tKvX2V69Z1Pt4/ajrul0XfYx+/gM/vNN+7pu+cY1s2vCR/Xz/9s1r7ce8t+z1oyq5wOcIfG597e7XD9zuvj73a55opUurEn5ByMEXVm+rO+mjKjU4rvvKYlmzs1nmnHqGLH3+T849Iq8sfVZ+9/Tf5eW318tzf3rMDomBZGXnyB33/EQu+9Tn5P6HHrPWj60u169dJX988W156oU35bbF18uYsaX21y0eM07efO3l3jC74jNflC37uuyvu2L527K3Yrfc8r0f2M+95JdPyrjSyfbzTZoy3X7cnPln2OvKfY7FN99h36fP9ftHH7YDTUP47h/+3N4+77Sz7Mfp41958VkpHFlkb1++sUo+fH9ZbwAOB61K+AUhB8873KqsOelW5TkXfFxKJ02xW37zT1/obD1MA0LDavyEKXLqgrNl7eoVzj0nRp9fv052bq4dWOdeeLG9rgGj3Lbj5Vdda69n5+RJZtbAV3HRkOxLA7G5qdH+Nyl9rsW33CFlWw8HtLt90RWftR/X3tZqr7v036uvob+QHgytSvgJIQfPC9ZRlVpFJSWnOGtHG23dF0xDeT5tObptwwXTCmX71o3OPcfq7/ka6uqkqbHBWTvaW6+/Yj+nPvfFZ8+wn7uhvrY3VN2veyIHsNCqhJ8QcvC8YLQqj6d8z077o7b0qvZV2rf7ch8TDNoifPAn99jtTLd1OGHSNOfeodEqMSMz21k72uev/4bdHtXn1uWFV1faVarSas/9mo/9+sFBW7P9oVUJPyHk4GnBalUej+6b0oDTFmD57h0ya86p9natgLT9p/fpY0JF99MNVsn1R1ucWsm57Uk9iEQPKikaM1YqrEDesGZV73b34JO+p1WkZ2TazzNUtCrhN4QcPC1cJ4DrvrLZ49Lt1t53brnTrnp0+dqNt8nnLz9Xrr7sbJkxa67z6CMB0/foyqHS/WC6H1CfW9uGba0t9sEw2oLUlqqGjx5dubNsi/MZx9Ln0ANg7v7ed+zneP7px+2DVkaOKj5q+68eus9e18d/4YZv24/T7drO/JSzL3KoDrcq82hVwjdiDlmc24Dn/PKF9TKqIEemji9wtgSXVmj/31232pN9pM8984O/LdsgZ0zLlwXTRzpbAG+jkoNnhatViaGhVQk/opKDZy3fsE/e21gjly6c7mxBJG3aUS17q+vkG5fPdLYA3kclB88Kx1GVGLrDR1UyHvAXQg6eRKvSW2hVwq8IOXgSb6vjLWV7ajmqEr5EyMGTaFV6y47Kepk7iSoO/kPIwXOOtCoHvpYjwudwq/JwJQf4DSEHzznSqoxztiCSaFXCzwg5eA6tSm+hVQk/I+TgKbQqveVIq5KjXOFPhBw8hValtxxpVTIe8CdCDp5Cq9JbaFXC7wg5eAatSm+hVQkTEHLwDFqV3kKrEiYg5OAZtCq9hVYlTEDIwRNoVXoLrUqYgpCDJ9Cq9BZalTAFIQdP0FblOFqVnkGrEqYg5BBxbqtyAq1KT6BVCZMQcog4WpXeQqsSJiHkEHGrttbSqvQQWpUwCSGHiNJW5bqyWlqVHkGrEqYh5BBRtCq9hVYlTEPIIaJoVXrLjoo6mUOrEgaJOWRxbgNhpa3KB59dKzsr9ztbEGnjirJk8adnUsnBGIQcEEYxMTHCrxwQPrQrAQDGIuQAAMYi5AAAxiLkAADGIuQAAMYi5AAAxiLkAADGIuQAAMYi5AAAxiLkAADGIuQAAMYi5AAAxiLkAADGIuQAAMYi5AAAxiLkAADGIuQAAMYi5AAAxiLkAADGIuQAAMYi5AAAxiLkAADGIuQAAMYi5AAAxiLkAADGIuQAAMYi5AAAxiLkAADGIuQAAMYi5AAAxiLkAADGIuQAAMYi5AAAxiLkAADGIuQAAMYi5AAAxiLkAADGIuQAAMYi5AAAxiLkAADGIuQAAMYi5AAAxiLkAADGIuQAAMYi5AAAxiLkAADGIuQAAMYi5AAAxiLkAADGIuQAAMYi5AAAxiLkAADGIuQAAMYi5AAAxiLkAADGIuQAAMYi5AAAxiLkAADGIuQAAMYi5AAAxiLkAADGIuQAAMYi5AAAxiLkAADGIuQAAMYi5AAAxiLkAADGIuQAAMYi5AAAxiLkAADGIuSAELr//vslOTlZlixZ4mw5TNd1u94PIHRiDlmc2wCCrLm5WXJzcyUuLk5SUlKkrq7OXm9tbZWuri57PT093Xk0gGCjkgNCSAPs1ltvle7ubjvQlH7Udd1OwAGhRSUHhJhWc/n5+dLR0eFsEUlMTJSamhpCDggxKjkgxDTIbr75ZklISLDX9aOuE3BA6FHJAWEQWM1RxQHhQyUHhIFbzcXHx1PFAWFEJQeEiVZzN9xwgzz66KOEHBAmhBwi6l9/8k/nFkz1s5vPd24B4UfIIaI05P7Xtec4azDNT594i5BDRLFPDgBgLEIOAGAsQg4AYCxCDgBgLEIOAGAsQg4AYCxCDgBgLEIOAGAsQg4AYCxCDgBgLEIOAGAsQg4AYCxCDgBgLEIOAGAsQg4AYCxCDgBgLEIOAGAsQg6etL+hTr56zSJZufwdZ8vQPPjAPfLCM084a/3Tx9x1+43S3t7mbDmafr4+Jlj033D5RfNkx/bNzpZj6debPDKud+nv8fq6Ah+jy1Bep/u9DPy8gV5PsP/tQKQRcogqOrFX7au0b++t2G1/DKST/G2Lr3fWTp4G6T9eekEWnvdxWbt6hbP1CH09Gjhqy76u3mXJL5+Um75xzTGB/fnrvyFrdjbbj1m+sUpWfvDOkP8QeOqFN3uf/2s33iaP/p8lRwV9sP/tgBcQcvClwMrHDQL9uOTeu+2Jum84uDRo5p++0F6WPv8nZ+th+pwfvr9MfvDjh50tJ88N0k9eeY28/vcX7arKpQGjQXP3D38ui2+5w9l62PgJU+R3T//d/pyBKsCs7FyZd9pZUr5np7Nl6GbNOVWamxqlva3VXg/Fvx3wAkIOvqMBptWYVjQvv71efvXQfYdbglddKzfdfrfc9+Dv7Nt9aahsWr/GnuDPvfBi+zkCQ0eD5vv3PiTJKanOlmPp1wls+7nLQNWUhurUGbNl2sxTZOLkaVK29UhgbVizSgpHFsm8BWf1VnT6XH947H/k3u//uzTU18oFH7vsmDB26WvftmWj/e8ZLn1d+no0KFUo/u2AFxBy8BUNKq04tBJLSkq2K56LL7tySNWMW1WNKi6xJ3cNmMDQGQoNJLflF7jo9r4CQ1WdufBCeXfZa/Ztpbd1mwbcD/7z3+wWpT5XbU2VbN64RrJz8mT0mHF2GLttxad+90uZPS7dDpcF0wrtENTvwVB8/vJze4Pp+acfly/c8G3nnqEZzr8d8ApCDr6kLUl3wtYW5Z5dZc49A9PqRas+NyT08wJDJ9g0VJe98YpcfPYM++tpyOg+NK3A3CosOzfXrtQ+9dnresNKg0/bkG6VpWGsga4C98npov/uoR4oErhP7o57fiK3fPuLA7ZCAVMQcvClwAlbl777tPrSUNHqJfDz9MANDZrhTPTDadlpeGmVGfg6NbzefO1l5xFWtdfWbldqWrG5tCodM7bUvu1WewPR+wIrvaHSanZ0yXhpqDvSrj0e2pXwI0IOvqIVjbYqn7MCSyd2DS89PH6gA01cbluydNKR1l5ScoqkZ2T2e9TjQIbastPXpVVb34DS8NJ2a0xMjIwqGmO9hiS7UnPbrRoYWm1qi9Pd9zh99lz7vv5oCAZWekOlVWb57h12JTlUtCvhR4QcPC1wP5JbNehBJTqxa9tR90tpdeQeaKIh0t/RlRoGgS1A5QamVngaSsHUX6gqDa/VK96T7Vs2SWpamh2wum9MX4P++/R0gzmnnmG3ODUM/+P79x8VYIH75HTREPzqjbfa9+m/ebDWZeD3Up//O7fcOeT9eYBfxRyyOLeBsPvXn/xT/te15zhr0cU94OTO//3fA4aNhvqDP7lH7n/osaMCuj8a1K+8+Kxc/cWvOVsi76dPvCU/u/l8Zw0IPyo5IEI02LSa0qqqv3arVmVDDTil1ePEydOdNQCKkAMiSPdn6dGS2pp0W4nuoq3XR55cOqSAU/pc7B8DjkbIARGm+9z0ROy+B3T0d0I7gOEh5AAAxiLkgBPgnroQ2F4c6Mr+/T12sHdB0H1xg90PYOgIOeAkDOXK/nqaw+Kb7ziqFamnLlx92dnHhKKu62kBqr93SQAwPIQcECR6Dlzglf01sPRdBPTKKn0PCNH9bfruA31DUc+b0wDUZaALMwMYOkIOCJK+V/bXkLruK4vtda3o3JamnvCt7zLgniiu70agNOwGe5cEAMNHyAEnYaAr+2s4aUhpkGnA6SkCeqqAvkfck7/9hX21Ew2/wEt6BeNdEgAcjZADTsJAV/Z3w0mrM21Z3vDNm+xTBTS89PJigde0dC/OHO53SQCiASEHBEl/V/Z3b+t7wykNvZYDB+wLIwdWe3o7GO+SAOBohBwQJIFX9tclLS2j9yr/+i7f6pGH7pcDB5rs0Hvgh3faB5hodResd0kAcDRCDjgJA13ZX0Nsb+UeaWttsQ8+cd84NS+/0H4XAj2tQAPOvapJuN8lAYgWvAsBIsrkdyFwDzjp+3Y5gdy3xjnem776Fe9CgEijkgNCxH3fu/5O+tbKTK+CokwNOMALCDkghDTAlvzySbnpG9f0tjV1uf4zH7OPxiTggNAi5IAQ0310L7y6sveoSV10nXflBkKPkAMAGIuQAwAYi5ADABiLkAMAGIuQAwAYi5ADABiLkAMAGIuQAwAYi5ADABiLkAMAGIuQAwAYi5ADABiLkAMAGIuQAwAYi3cGR0TpO4PDbLwzOCKJkAPCKCYmRviVA8KHdiUAwFiEHADAWIQcAMBYhBwAwFiEHADAWIQcAMBYhBwAwFiEHADAWIQcAMBYhBwAwFiEHADAWIQcAMBYhBwAwFiEHADAWIQcAMBYhBwAwFiEHADAWIQcAMBYhBwAwFiEHADAWIQcAMBYhBwAwFiEHADAWIQcAMBYhBwAwFiEHADAWIQcAMBYhBwAwFiEHADAWIQcAMBYhBwAwFiEHADAWIQcAMBYhBwAwFiEHADAWIQcAMBYhBwAwFiEHADAWIQcAMBYhBwAwFiEHADAWIQcAMBYhBwAwFiEHADAWIQcAMBYhBwAwFiEHADAWIQcAMBYhBwAwFiEHADAWIQcAMBYhBwAwFiEHADAWIQcAMBYhBwAwFiEHADAWIQcAMBYhBwAwFiEHADAWIQcAMBYhBwQQvfff78kJyfLkiVLnC2H6bpu1/sBhE7MIYtzG0CQNTc3S25ursTFxUlKSorU1dXZ662trdLV1WWvp6enO48GEGxUckAIaYDdeuut0t3dbQea0o+6rtsJOCC0qOSAENNqLj8/Xzo6OpwtIomJiVJTU0PIASFGJQeEmAbZzTffLAkJCfa6ftR1Ag4IPSo5GEP3cSnd/zWYYD9OVVVVSWFhobN2LK3mRo4cae+L031z+/btGzDkIvH61HCeD/ALKjkgDDTQbrvtNvv27bffThUHhAmVHIygVUiwK6DhVDa6f033uw2moaHBblP+7Gc/GzTkIvX6Bnu+oXwNwIuo5IAwqajvklM/cbOU13U6WwCEGpUcjBHsCmg4ldLx9nlt2FEnv3xujSyYVSLL1+6Wb3xqtkwfn+vce7RIvD41nOcD/IJKDggxN+A+ef4MK+TG2h91XbcDCC1CDgihwIAbW5Rjb9OPBB0QHoQcECL9BZyLoAPCg5ADQmCwgHMRdEDoEXJAkA0l4FwEHRBahBwQRMMJOBdBB4QOIQcEyYkEnCsw6DburHe2AjhZnCcHI+g5XsE+v2w4542999EOefrN8hMKuEC7KuvlL/9cL19eNFVmTjjxK5T0xRVPEK2o5ICTpJVXMAJOuRXdb5ZuoqIDgoBKDsaIRCV3Mi3KwbgVXTCujKK44gmiFZUccIJCFXDKreg4GAU4OYQccAJCGXAugg44eYQcMEzhCDgXQQecHEIOGIZwBpyLoANOHCEHDFEkAs5F0AEnhpADhiCSAeci6IDhI+SA4/BCwLkCg47z6IDj4zw5GEHP8Qrm+W9KH7dpV4N9YrYXAi7QcK6MorjiCaIVlRwwAK8GnHIrOq6MAgyOSg7GCGYl56UW5WCGcmUUxRVPEK2o5IA+/BJwyq3oOBgF6B8hBwTwU8C5CDpgYIQc4PBjwLkIOqB/hBxg8XPAuQg64FiEHKKeCQHnIuiAoxFyiGomBZyLoAOOIOQQtUwMOBdBBxxGyCEq6QnUpgacKzDotlcecLYC0YWTwWEEPdm5p6fHvh0bO/jfblvLm+TpN8uNDrhA7gnjV59fIhOK0pytxxrs+3e8E8kBryLkYAyTrmQSbEO5MgpXPIGJaFciakRrwKnA1iX76BBNCDlEhWgOOBdBh2hEyMF4BNwRBB2iDSEHoxFwxyLoEE0IORhroIA7JMvlwZGflb/tdTYMwyGpkue+ni4fv/9dZ8uxPnygQL7756E9uT72kRXHHvu179lrZNLI+KOW/r5mf/8W3fbzgM/r7/kJOkQLQs4gP/jBD+SSSy6Rurojk5Zu+/3vf++sRY9QVXA9K34jP5r2H/KpH78mHznbAmloXXNvg7M2uJ69f5DHNvy3XHFqjLPlaKM+8Vt5d1+nbLWWLfvelst/fO5RgXU44M6Wh51114oHPiG7Htptf97mVY/Lysuu7jfQTQ+6t99++5jfh7a2NvnWt74Vlb8T0YqQM8zLL78sL730krMWnYYbcN0r/v/eqmfByP/db3i5Vr1xv3z9vH+XBbcvkccDqjW3wvuPQ8/Lk7dnO1sHV/3ec5Kw6ALJc9YHEyML5AzreTft2meva0AutgIu4cW35Nv2lsM0+Jbfe5N88cpR9nrsqM/JDbe/Ia+9239lGRh0pr3D+Nlnny3XXXedPPTQQ84WkT//+c9SXFwsX/jCF5wtMB0hZ5jvfve78tFHH8nmzZudLUe4f8XGxMTInDlz+n2MX+k5Xrqs214zrIDTUPjFZR/KT1cdrpheeHjdUeEVyA2Q+VblNe+an8nBpa9LrXNfjBTKp/6nWV659UxnS/+00nMD9ZxvPy3P3Vhy3GBV+rXfv/c8ufDMI+H1kPV6v37q0b/CGoY37vtPOcVZ1/At39gmU8eOdLYcyw26R/6y3v7+ud/LwMWvrrzySmlubrZ/1rWie+utt+TGG2+079Muh/4u6OJWdvoYrf7c7VoNwt+iLuQCf4BNWlzp6elyxRVXyB//+EdnyxH33Xef/Vesnv//4IMPyk033WT/Uvf3fH5b4uPjJTk5WZ59faMsmFUypIDrz8hPPyk/dqqgvnpWvC7PffdCO0BiRp0vF8Y8Jx/0n4cDmn9LtR2mm168R8Z/90379vKAUAq0969fkjOdQJxsVW07H/qpXNr/S+uXBtzzX58ob1+6Rb46QEvUpd8v/b7p90+/l32X/r7nflj0Z8L9fdCKTiu73Nzc3lDT34Xa2lr561//agehdkG0AtTty5Ytk8cee6zf5/XrctZZZ0ljY6P9b48WURdy7733nuzfv9/+ITZpCaS/pGlpaUdValrFVVRUyIUXXmivT506VbKzs+1f8P6ez49LZ2enfOZfZsrytbvtK3wMhVY+3171GfnL3MNhcu7XnuitzvrSVuWOH5/rhM5oue0vzw7YBjwefa7PnX+Gs9a/wH1yunxu5ymDHvDS14oHZtkBN1BoB9Lvl37f9PvX3/fWr4vS3weXe7usrEzuuusue+LPy8uTp556Sj788EOZP3++PPPMM/Z29Ytf/KLf5/XrsmHDBvvfFU1oVxpq0aJF8sgjj9itmmgybVyOfekqvYTVUIPObf1pkPzxsr/Itf0Eie4De/Te83rbmrroQR3tN/76uK3GQG67Ug9O+dFlCfbtobQr1dzzbpX2jTsGDOFAfdubg3Ev+fXVT86wv38mKi0tdW4d8fjjjx8VALqfbsqUKbJ69Wq7ilu4cOExB67Afwg5Q+kv6ymnnCI//vGP7XVt22ir8rXXXrPXN23aJA0NDfZfsabRazMONeg0vP61T8icMn6cc+sIPUhk7Sc+LacFZEbMqPEyRe6WD/s5RH8g2q586+HPyKecox91Gahd2ZdWf0nTxg/5QJXF+/503PamG3D6/TI14PqjoaetSA0wdz+c7n/TNqYuWvHp74h2O+BvhJzB9Bf34osvdtZEbrvtNrtlqa2YxYsXy5IlS+z9EyYaatBpFfefD6+Tz1gVlVZVV7/4Sfl/+rT3dN/We0v/Kqf3ORLSPeLxtw8/OaTqSmmF9edvz+w9+nEwgfvkdLllw3/LE8c5sMWlX+d45wIGBtxAF202lVZtGmT6R54uuq9O1/VAFT04RX9HtKX/ne98x9jfkWgRde9CkJWVJbt27ZLMzExnC0zhHgUYeBX9UJ0v53f9BVx/3z+YJRrnPyo5GG04rctoEc0VHKIPIQfjEXRHEHCINoQcogJBR8AhOhFyMELg1TkGWiaPybQPk4/GoHMDTv/9+n3o7/sz2AL4FSGHqKKHyX950dSoCrrAgIum0wQARcjBCHpE4FCXmRPyo6aicwPu6vNLZNbEgn6/H0NZAL8i5BCVTuTKKH7jBpz+OycUpTlbgehCyCFqmXwwSmDAcZAJohkhh6hmYtARcMARhByinklBR8ABRyPkAIsJQUfAAcci5ACHn4OOgAP6R8gBAfwYdAQcMDBCDkbo7yodJ7r46coobsAd70omPT09/W4f6gL4FSEH9MMPV0YJDDiuZAL0j5CDEfq7SsfJLl6+MkpgwA3lSiaxsbH9bh/qAvgVIQcMwotXRqGCA4aOkAOOw0sHo7gBp6+HgAOOj5ADhsALQRcYcBxFCQwNIQcMUSSDjoADTgwhBwxDJIKOgANOHCEHDFM4g46AA04OIQecgHAEHQEHnDxCDjhBoQw6Ag4IjphDFud2VMjKypJdu3ZJZmamswUmqKqqsi9dpfTE58EE+3HbKw/IH/+5Wz55/gwZW3Tyh/W7AXf1+SWDvqP3UF+fOnDggKSlDf7u4IM9X2FhoXMLfhaN8x8hB2O411g83hU6gv049c6q7UEJOjfg3CuZDGY4r0//CDheUA3n+eBP0Tj/Hf9PQADHpRXXybYuAwOOE72B4CDkgCA5mX10bsDp5xNwQPAQckAQnUjQBQYcB5kAwUXIAUE2nKAj4IDQIuSAEBhK0BFwQOgRckCIDBZ0BBwQHoQcEEL9BR0BB4QP58nBCHqOV7DPfxvOeWM1NTWSn5/vrB1r4856eeQv62XBrBJZvnb3oKcJROL1qcGebyhfA97HeXIAQkID7cuLpkpV7X7OgwPCiEoOxgh2BTScSimYVxTx+uuDf1HJAQBgEEIOAGAsQg4AYCxCDsbQfUlD2Z8U7MepobwVTbC/7lAfp4L5+gA/IeQAAMYi5AAAxiLkAADGIuQAAMYi5AAAxiLkAADGIuQAAMYi5AAAxiLkAADGIuQAAMYi5AAAxiLkAADGIuQAAMYi5AAAxiLkAADGIuQAAMYi5AAAxiLkAADGIuQAAMYi5AAAxiLkAADGIuQAAMYi5AAAxiLkAADGIuQAAMYi5AAAxiLkAADGIuQAAMYi5AAAxiLkAADGIuQAAMYi5AAAxiLkAADGIuQAAMYi5AAAxiLkAADGIuQAAMYi5AAAxiLkAADGIuQAAMYi5AAAxiLkAADGIuQAAMYi5AAAxiLkAADGioqQ6+rqcm4BQHSJ9vnP+JD71a9+JampqXLvvfceNdgPP/ywpKWlyX/91385WwDALMx/IjGHLM5tY2VmZkpnZ6fEx8dLW1ubZGdnS3Nzs327vLxciouLnUcCgFmiff6Linal/rUSGxsrTU1N9mBXV1dLT0+PLF68mIADYLRon/+iopJTOTk50tDQ4KwdRhUHIBpE8/wXNUdX3nHHHXZvWiUmJlLFAYga0Tz/RU0lpwL/mqGKAxBNonX+i6rz5O68806qOABRKVrnv6iq5NQ111wj9913HyEHIOpE4/wX1JBrP9glDz67TnZW7ne2IJIOWf+NH5Uti6+cJUkJI5ytAEKB+c9b3PkvqCG3fGOVvLe+Wi49Z7qzBZG0cUe17K2qk29eMdPZAiBUmP+8xZ3/grpPbvXWGhlfnOusIdJ2VtTK3El5zhqAUGL+8xZ3/gtayGmpvnZ7rZSOYVL1goOdXbJ1d53MnpjvbAEQKsx/3hI4/wUt5NZur5NJJXmSEM++Hy/YXl4vM0vz2BcHhAHzn7cEzn9BC7lVWqoX5ThriDRalUD4MP95S+D8F5SQo1T3FlqVQPgw/3lL3/kvKCFHqe4tWqrPmpBPqxIIA+Y/b+k7/wUl5CjVvUVL9TkTOcoLCAfmP2/pO/+ddMhRqnsLrUogfJj/vKW/+e+kQ45S3VvKaFUCYcP85y39zX8nHXKU6t6yg1YlEDbMf97S3/x3UiFHqe4ttCqB8GH+85aB5r+TCjlKdW+hVQmED/Oftww0/51UyFGqewutSiB8mP+8ZaD574RDjlLdW2hVAuHD/Octg81/JxxylOreQqsSCB/mP28ZbP474ZCjVPcWWpVA+DD/ectg898JhVz7wW5KdQ+hVQmED/Oftxxv/juhkNMBplT3DlqVQPgw/3nL8ea/Ewo5SnVvoVUJhA/zn7ccb/4bdshRqnvLwc5uWpVAmDD/ectQ5r9hh9yabTVWqZ5Lqe4RZeV1tCqBMGH+85ahzH/DDrnV22plfDF/xXgFrUogfJj/vGUo89+wQq63VB/NpOoFtCqB8GH+85ahzn/DCjlKdW+hVQmED/Oftwx1/htWyJ1sqb6/oU6+es0imTwy7qjlwQfucR5xtB3bN8vN3/qC/XmDeeGZJ/p9Dt2uy8rl78hdt98o7e1t9uP6fv3LL5pnf62B6Ofp5+vznAj9mvq5A73OE0WrEgifYLYqdS4Yzjyk84Z+zmB0ntT5su9z6Hadv/btLe+dx/qbB3XR+fl48+1Q9Df3BttQ578hh1wwS/WnXnhTtuzrspc1O5ulal9lvwEyfsIU+ckvfi9Z2Sf/NQtHFklSUrJ9+6bb7+79+rq88OpK+2uFw5ixpc6tk0OrEgifULQqP3/9N+z5z52H7v7hz+XR/7Ok30BYfMsdcvlV1zprJy4tLUOyc3Pt59OvuXxjlZxzwcd75+RHnlwalPk2UODcGyzDmf+GHHKhKtX1H6/fhPI9O+2/QL7y+UvtRf+i+Gjl+72VnIag3tZF/+Jw/+rR7bctvl6W3Hv3MVXS6DHj7EUHdcr02c7WwQX+hTXQX1aBfwUFfk19rH6Obg/8i0i/tr4G9/UEA61KIHzC0arUOaK5qVHa21rteeXfvnmtPZfonKTr+tHtKvWdg3T7Az+8U1587g9y0zeuOWreSkpOkRmz5trhNa50omTnDF6N6pyqc7DOZfq13l32+lHVmPt6XIGvRe9TJzL3Dsdw5r8hh9zqbXUhOarIDrAP3umd/GtrquQ7t9xp/0WRkZllb3PpAF73lcX2Xz9zTj1Dlj7/J5m34Cy578Hf2dWZ/nUSSO/TRau0f7nkcmfrwHRwn3/6cfuvG/2r5uLLrrS/RiB9jFae+hp0aTlwwP6B0n/HPXfcbP81pp8777Sz7B86/cHQr62vwX09wUCrEgifUM1/gdauXiHpGZl2KCmd/3SO6a+Cc+cgrcBefvHPsrdit9zyvR/IZZ/6nCz55ZNHdaa0kPjcdV+3P179xa8NqVLTeVif5/v3PiSJCYnO1mNpqLmv5eW318uvHrrPniOHO/cO13DmvyGF3OFSvSZopfrnLz+3N/kXTCuUKz7zxd7JPy+/0E7//mhZXTppij1Y809f6GwdPq363K+viw6K0tcQWK4fr7Wor+P2u35kD2TZ1sN/OenrU4uu+GzvX2XBRqsSCJ9gz3+up373S5k9Lr13HtI/sDWodF5Rg7X5dP7T+3S+mTBpmrM1ePILRh634tM/4D98f1nva9F5UAsD7cqF0nDnvyGFXLBL9cB9croE/qWSmZUz4De32Kr23L9yTkbffXJuwLqtAPeHTtugfeljdVDdH063PFdvvf6KHdq6/eKzZ8j2rRulob7WuTd4aFUC4ROqVmXffXJ994cN9kd2sHZ7DGQ4c63Ok+6cqQXEnl1lzj2hMdz5b0ghF45S3QteefFZ+6P7g6dt0P5oKOv9+jj9S8atBPv+0IbqgBZalUD4RMv8N1R9Q6xv0dJ3t1GwDXf+O27IhapU9zrdx6btg7767nR1j1bStkGFVaZvWLPK3q6PC9bhuIFoVQLhE63zX1+rV7xn7/dzj6FQ2qLUrtZz1jypXTC9T+e8wO5WsJ3I/HfckPPDCZBauvd3dOVwnXvhxXZQaSvy1huvk2u+9C17p2qHc1SR+vhln7a3aWmuj5s6Y7ZdrWmb4Y57fiJ3f+879n26A1bXh7KTdzgOl+p5tCqBMPDD/OfS9qIeuNL36MqTpbtodF+b7oLReXHh+R937jnc1dJ9hzoX6q4aPeAuGKc6DORE5r+YQxbndr9++cJ6GVWQI1PHFzhbEEl/W7ZBzpiWLwumj3S2AAgV5j9vOZH5b9BKjlLdW2hVAuHD/OctJzr/DRpyfirVowGtSiB8mP+85UTnv0FDjqOKvOXwUUWMBxAOzH/ecqLz34AhR6nuLbQqgfBh/vOWk5n/Bgw5SnVvKdtTS6sSCBPmP285mflvwJCjVPeWHZX1MncSVRwQDsx/3nIy81+/IXekVM9xtiCSDpfqh/+SARBazH/ecrLzX78hd6RUj3O2IJJoVQLhw/znLSc7//UbcpTq3kKrEggf5j9vOdn575iQo1T3liOlOkd5AaHG/OctwZj/jgk5SnVvOVKqMx5AqDH/eUsw5r9jQo5S3VtoVQLhw/znLcGY/44KOUp1b6FVCYQP85+3BGv+OyrkKNW9hVYlED7Mf94SrPnvqJCjVPcWWpVA+DD/eUuw5r/ekKNU9xZalUD4MP95SzDnv96Qo1T3FlqVQPgw/3lLMOe/3pDTUn0cpbpn0KoEwof5z1uCOf/ZIeeW6hMo1T2BViUQPsx/3hLs+c8OOUp1b6FVCYQP85+3BHv+s0Nu1dZaSnUPoVUJhA/zn7cEe/6L1VJ9XVktpbpH0KoEwof5z1tCMf/FUqp7C61KIHyY/7wlFPNfLKW6t+yoqJM5tCqBsGD+85ZQzH8x9z216tDOyv3OKiJtXFGWLP70TCo5IMS0Vfngs2uF+c87QjH/xRyyOLejQlZWluzatUsyMzOdLQAQHaJx/us9GRwAANMQcgAAYxFyAABjEXIAAGMRcgAAYxFyAABjEXIAAGMRcgAAYxFyAABjEXIAAGMRcgAAYxFyAABjEXIAAGMRcgAAYxFyAABjEXIAAGMRcgAAYxFyAABjEXIAAGMRcgAAYxFyAABjEXIAAGMRcgAAYxFyAABjEXIAAGMRcgAAYxFyAABjEXIAAGMRcgAAYxFyAABjEXIAAGMRcgAAYxFyAABjEXIAAGMRcgAAYxFyAABjEXIAAGMRcgAAYxFyAABjEXIAAGMRcgAAYxFyAABjEXIAAGMRcgAAYxFyAABjEXIAAGMRcgAAYxFyAABjEXIAAGMRcgAAYxFyAABjEXIAAGMRcgAAYxFyAABjEXIAAGMRcgAAYxFyAABjEXIAAGMRcgAAYxFyAABjEXIAAGMRcgAAYxFyAABjEXIAAGMRcgAAYxFyAABjEXIAAGMRcgAAYxFyAABjEXIAAGMRcgAAYxFyAABjEXIAAGMRcgAAYxFyAABjEXIAAGMRcgAAYxFyAABjEXIAAGMRcgAAYxFyAABjEXIAAGMRcgAAYxFyAABjEXIAAGMRcgAAYxFyAABjEXIAAGMRcgAAYxFyAABjEXIAAGMRcgAAYxFyAABjEXIAAGMRcgAAYxFyAABjEXIAAGMRcgAAYxFyAABjEXIAAGMRcgAAYxFyAABjEXIAAGMRcgAAYxFyAABjEXIAAGMRcgAAYxFyAABjEXIAAGMRcgAAYxFyAABjEXIAAGMRcgAAYxFyAABjEXIAAGMRcgAAYxFyAABjEXIAAGMRcgAAYxFyAABjEXIAAGMRcgAAYxFyAABjEXIAAGMRcgAAYxFyAABjEXIAAGMRcgAAY8Ucsji3o0JWVpbs2rVLMjMznS3A8LQf7JL6pg5paG6XxgMd0thyUJpaOuVAe6e0tHZKW0eXtHd2S4f1uM6uHunq6ZGe7kPSY/2qxVifr79wsTExEjsiRuJiYyU+LlYSE+IkKWGEJCfGSWpSvKQlx0tGaoJkpsZLZlqiZKcnSU5GovWYOPs1ACciGuc/Qg4YQENzh1TWHrCWFqmqb5N99a1S19hqBdchO3jSUxMlJTnRCqZ462O8JCfES5J1WwMrwQqu+LgREmctI6wwi7XCTIPNpYHXY4VftxV+XV3d1nN2y0ErEDUY2zusoDzYKa1tGpj6sUOaW6wwtQI1Pi5GcjNTpDAnRUbmJktRbqoU5aVZIZjoPDMwMEIuChBy6E/7wW4pq2yUHXubZOfeZimvabZDKS8rRXIyUyUzPdmqpFLsjylWpRUprVa12NjcZlWSrdLYpB9bpLahVXqs+nB0frqMG5km44sypdRatDIEAhFyUYCQg+rpOSSbdzfIJmvZsme/VFtBUVyQIYW5GZKfnSYFuWmSmpTgPNr7WtoPSnXdAalpOCBVdU1SUd0kBdkpMnlMlkwtyZYp1hIbe6SSRHQi5KIAIRe9mls7Ze32GllbpuFWJ6OtUBtdmCVF+VkyMi/deZQ59tU2S2VNo5RXNUi5FXpTS3JlVmmOzJqQJ+kpkatGETmEXBQg5KJLR2e3rNxcIx9urrYm+mYpLc6RklG5MrY4S+JHRE87r7O7W3ZV7Jfde+ukrKLeCvh0mT+lQOZNyZfEeNqa0YKQiwKEXHTYsqdB3l1XJR9tq5YpJXkyfky+jLcCDoftsIKubE+NbNldK6dMLJAzZxbK5DHZzr0wFSEXBQg5sy1bWylvr9krhw7FyNTxBTJ5fKFVsXE66EA6u3tkS1mVbN5Vba0dkoWzi+TsWaMO3wnjEHJRgJAzT3dPj/zjwz3y5upKGV2YIdNKR0lxAeM7XBXVjbKxbK+UVzXJeXOL5aJTR8uIWP5AMAkhFwUIObO8umKP/P2D3TKpJE9mTSqS7IwU5x6cqIamVlm7pVK27qmVj80vkYvmj3Hugd8RclGAkDPDis3VsvSdnVKQly5zp42W7HTCLdgamltl1aZyqa5plkVnjZNTpxQ498CvCLkoQMj5W21jm/z5jTL7dID5M8dKUX6Gcw9CpbKmST5ct0vSUuLlqvNKJS8z2bkHfhON8x8Nd/iG7nP70WMfSl5Ohlx+wSwCLkz0+6zf73zr+67ffx0HwC+o5OB5epHjx17ZLE0HOuXseaWSlU4lESn7m9vk7ZVlkpEWL9d9fIp9cWn4B5Uc4DHlNQfk3t+vlOSkJLnsvBkEXITp91/HQcdDx0XHB/AyQg6etb6sVv77D6vsA0vmzyhxtsILdDx0XHR8Nuyoc7YC3kPIwZNWbqmR3720WT5hVQ2TxuY7W+ElOi46Pr/92yZrvPRkcsB7CDl4ztrtdfKHV7fIJy+YyUndHqfjo+P0h1e32uMGeA0hB0/Zta9JfrN0gyxaOF0Kc9KcrfAyHScdLx03HT/ASwg5eIa+Y8DvXtokF50xSYoKOD3AT3S8dNx0/HQcAa8g5OAZT/5jq5SOzpNJJeyD8yMdt9IxefKUNY6AVxBy8ISVW2tkX12rLJg11tkCP1owc6zsrW/lQBR4BiEHT3jxnZ1y+mwCzgSnzxonL767y1kDIouQQ8Tp+7/pScajC7OcLfCz0YWZ9njquAKRRsgh4t5aUykzJvBGnSbR8dRxBSKNkENE7ak+YB+NN2YkVZxJdDx1XHV8gUgi5BBS999/vzQ3Nztrx9JLd40rynHW/OvBB+6RySPjjlleeOYJ5xFDs3L5O/LVaxbJ/gb/n1it47p+kEt+6c+F/nwAoUTIIaTuuOMOyc3Nle9973v9hl3Z3mYZmWvGOXE33X63bNnXddRy+VXXOvdGHx3XsspjTw7XnwP9edCfC/35AEKJkENI/ehHP5IRI0bIAw88IPn5+ceEXVV9q+RmpzprZmpvb5O7br/xqGpPb7t2bN8sl180z97+7rLXnK3+p+Oq4+tyw01/DvTnIS4uzv75AEKJkENI3XTTTZKamioHDx6Ujo6OY8KuqaVDUpPjnUebrWpfpazZ2SxPvfCmvPzin+1w07bkPXfcLF+78Ta78jOJjquOb99w058D/XlISUmxfz6AUIq6kDvjjDPsNw6MiYlhCdNSV3dkv4wbdrov5oYbbpDunkMSZ1V6Jlhy7929lZouWp1pkLnmn75QkpKSpXTSFJkwaZq9raG+VjIys+XcCy+21xdd8Vl73QQ6rjq+Os463m64ufTnor+fF5bQLdOnT3e++9Ej6kLupZdeEn0zdJbwLbrvxZWQkCCJiYly6623yqOPPiojYmOkq9uMax323Sf3wqsrZfyEKc69IqPHjHNuHdFgTfRNjQ3Omll0XHV8dZx1vHXcdfxd+nPR388LS+iWd955J6reFVzRrkRILVmyRFpbW3vD7ZZbbpGamhr54Q9/KOnp6ZKRmigtbZ3Oo6NPtjXRm1K59aXjquOr46zjreOu4++Gnf5c6M8HEEqEHELq3//936Wrq+uYcHMV5qRIXUOLsxZ9RhWXSHpGprz52sv2+tLn/2RMZafjquPr6ht2+nOhPx9AKBFyCKl77rnH3vfSN9xcpUUZsrfOjPcg67tPTpfAoyj7o/vobvjmTfKrh+6zH5+SmibF/bQ1/UjHVce3Lzfs9OdCfz6AUIo5pI1aIEL0ihi/fnGDXLvoVGcLTPHE0hXylcumy5gC3vwWkUMlh4jSCTAxfoTs2bff2QIT6HjquBJwiDRCDhG3cHaRrN/OFetNouO5cDYX3UbkEXKIOJ0M9ze3SXkV1ZwJyqsa7fHUP16ASCPk4AmXnTlO3l/LG22a4P21O+3xBLyAkIMnzJucLyNzUmT5OoLOz3T8RlnjqOMJeAEhB8+45l8mSdnuWtm2u8bZAj/Zao1b2Z5a+bw1joBXEHLwDD0a7/pLp8o/3tsqldVmnDsXLXS8XrXG7fpLptrjCHgFIQdPGTsyQ768aLosXbZBqup5V2k/0HHS8dJx0/EDvISQg+fMmpArn79okrzw+jqpqG50tsKLdHx0nHS8dNwAr+GKJ/Cs9WV18ujSDXLh6ZNlUkmesxVesXV3rbz2/ha5wargZpQScPAmQg6eVl5zQH67dJOUjsmV+TNKnK2ItA/X75ayPXXypUVTZXQ+VzWBdxFy8LzOrh557JXN0nSgU86eVypZ6cnOPQg3Pcn77ZVlkpEaL9ddPEXi49jjAW8j5OAbb66ukBeWlclZc8bJrElcTSPc1m6tlHdW75TLF5bKuXOKna2AtxFy8JXaxjZ55o0yOdDaKfNnjpWifI7mC7XKmib5cN0uSUuJl6vOK5W8TCpp+AchB19asblalr67Uwpy02XutNGSnX7kzTkRHA3NrbJqY7lU1zXLojPHyalTCpx7AP8g5OBrr67YI3//YLd99KW2MLMzCLuT1dDUarcm9ejJf5lfYi1jnHsA/yHk4HvdPT3yjw/3yJurK2V0YYZMKx0lxQWZzr0YKj3nbWPZXimvapJz5xTZ4TYilgNL4G+EHIyybO1eeXtNpXUrRqaMK5DJ4wslfgQT9UA6u3tky44q2byz2lo7JGfPHiULZ3FQD8xByMFIW/Y0yLvrquSjbdUypSRPxo/Jl/HFOc692FFRL2V7amTL7lo5ZWKBnDmzUCaPyXbuBcxByMFoHZ3dsnJzjXy4uVr2VDfLBCvoSkblytjiLKvCi54LCXd2d8uuiv2ye2+dlFkBN7ogXeZPKZB5U/K5oDKMRsghajS3dsra7bWytqxeNu2uk9H5GTJ6ZLYU5WfKyLx051Hm2FfbLBXV+6Wiar+U1zTJ1JJcmVWaI7Mm5El6SrzzKMBshByiUk/PIdm8u8EKuwbZsme/VDe02getFORkSH52mhTkpklqUoLzaO9raT8o1XUHpLbhgOyra7LCrUkKslNk8pgsK9yyZYq1xMbGOI8GogchB1jaD3ZLWWWj7NjbJDv3WhVQTbPEWP/lWUGRk5EqmRnJ1scUyUxPlpSkyFVBre2d0tjcJvVNrdLYpB9bpHZ/q/RYv8aj89Nl3Kg0GT8qU0qLMiUpgTYkQMgBA2ho7pDK2gP2sq++XarqW6WusVU6uw5JZlqipKcmSkqytVihl6xLQrwkJcZLYkKcJMTFSnzcCImzlhEjYqwqKlZiY45UUhpKPT090t19SLq6uq3n7JaDXT3ScbBL2js6pe2gtbR1Sqt1u7WtQ5pbOqTxQIf1nDGSm5kiI3NSpDAnWYryUq0lTbLTE51nBhCIkAOGqd0KovqmDisE2+3gaWzplKaWg3LAqrJaWjWgrKCyKkMNLL24dJcVZj1WmGmwaczpL5wGXqwVfnFW+OlFjjUYtfJKToyT1OR4SbNCMyM1QTJT4+1AzU5PsirJROsxcfZrADAUIv8XsT11PFEOzKwAAAAASUVORK5CYII=)"
      ]
    },
    {
      "cell_type": "code",
      "metadata": {
        "colab": {
          "base_uri": "https://localhost:8080/"
        },
        "id": "_5mXjSfr_LGV",
        "outputId": "2b834d87-73f7-4032-b82f-52fa77d64d18"
      },
      "source": [
        "#2\n",
        "A2 = A @ (B @ C)\n",
        "A2"
      ],
      "execution_count": null,
      "outputs": [
        {
          "output_type": "execute_result",
          "data": {
            "text/plain": [
              "array([[1389,  954, 1161],\n",
              "       [ 386,  264,  334],\n",
              "       [ 641,  432,  564]])"
            ]
          },
          "metadata": {},
          "execution_count": 85
        }
      ]
    },
    {
      "cell_type": "code",
      "metadata": {
        "colab": {
          "base_uri": "https://localhost:8080/"
        },
        "id": "w1pUbNRx_ckg",
        "outputId": "46ffff4e-eacd-4e8f-9109-87a4d8582c77"
      },
      "source": [
        "B2 = (A @ B) @ C\n",
        "B2"
      ],
      "execution_count": null,
      "outputs": [
        {
          "output_type": "execute_result",
          "data": {
            "text/plain": [
              "array([[1389,  954, 1161],\n",
              "       [ 386,  264,  334],\n",
              "       [ 641,  432,  564]])"
            ]
          },
          "metadata": {},
          "execution_count": 86
        }
      ]
    },
    {
      "cell_type": "code",
      "metadata": {
        "colab": {
          "base_uri": "https://localhost:8080/"
        },
        "id": "DaeLPw___c5r",
        "outputId": "3e466bb3-9769-44a8-e3c8-1e8a94454e05"
      },
      "source": [
        "np.array_equal(A2,B2)"
      ],
      "execution_count": null,
      "outputs": [
        {
          "output_type": "execute_result",
          "data": {
            "text/plain": [
              "True"
            ]
          },
          "metadata": {},
          "execution_count": 87
        }
      ]
    },
    {
      "cell_type": "markdown",
      "metadata": {
        "id": "8vqHOj1TXpGn"
      },
      "source": [
        "![2.png](data:image/png;base64,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)"
      ]
    },
    {
      "cell_type": "code",
      "metadata": {
        "colab": {
          "base_uri": "https://localhost:8080/"
        },
        "id": "OKDD9B1V_dPM",
        "outputId": "6e97ed64-fabd-41e7-9063-9055e88371d6"
      },
      "source": [
        "#3\n",
        "A3 = A @ (B + C)\n",
        "A3"
      ],
      "execution_count": null,
      "outputs": [
        {
          "output_type": "execute_result",
          "data": {
            "text/plain": [
              "array([[189, 132, 198],\n",
              "       [ 62,  40,  64],\n",
              "       [ 77,  48,  85]])"
            ]
          },
          "metadata": {},
          "execution_count": 88
        }
      ]
    },
    {
      "cell_type": "code",
      "metadata": {
        "colab": {
          "base_uri": "https://localhost:8080/"
        },
        "id": "Pg2mY1wV_ddT",
        "outputId": "916fad8d-a3ee-4149-9f74-4394bda72529"
      },
      "source": [
        "B3 = A @ B + A @ C\n",
        "B3"
      ],
      "execution_count": null,
      "outputs": [
        {
          "output_type": "execute_result",
          "data": {
            "text/plain": [
              "array([[189, 132, 198],\n",
              "       [ 62,  40,  64],\n",
              "       [ 77,  48,  85]])"
            ]
          },
          "metadata": {},
          "execution_count": 89
        }
      ]
    },
    {
      "cell_type": "code",
      "metadata": {
        "colab": {
          "base_uri": "https://localhost:8080/"
        },
        "id": "Jtq559ZN_dtN",
        "outputId": "22e2a471-dd27-4b36-e1c4-16c996fa9a6c"
      },
      "source": [
        "np.array_equal(A3,B3)"
      ],
      "execution_count": null,
      "outputs": [
        {
          "output_type": "execute_result",
          "data": {
            "text/plain": [
              "True"
            ]
          },
          "metadata": {},
          "execution_count": 90
        }
      ]
    },
    {
      "cell_type": "markdown",
      "metadata": {
        "id": "Q2f0PHxOXr_g"
      },
      "source": [
        "![3.png](data:image/png;base64,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)"
      ]
    },
    {
      "cell_type": "code",
      "metadata": {
        "colab": {
          "base_uri": "https://localhost:8080/"
        },
        "id": "HuVF6YKYCvTN",
        "outputId": "a3b205a4-717c-4314-eff0-7ff81159047e"
      },
      "source": [
        "#4\n",
        "A4 = (B + C) @ A\n",
        "A4"
      ],
      "execution_count": null,
      "outputs": [
        {
          "output_type": "execute_result",
          "data": {
            "text/plain": [
              "array([[116, 220,  84],\n",
              "       [ 66, 135,  50],\n",
              "       [ 95, 169,  63]])"
            ]
          },
          "metadata": {},
          "execution_count": 91
        }
      ]
    },
    {
      "cell_type": "code",
      "metadata": {
        "colab": {
          "base_uri": "https://localhost:8080/"
        },
        "id": "176D1qIeC_Tb",
        "outputId": "5e8d3494-f1a5-44b7-cd88-5cbce337e957"
      },
      "source": [
        "B4 = B @ A + C @ A\n",
        "B4"
      ],
      "execution_count": null,
      "outputs": [
        {
          "output_type": "execute_result",
          "data": {
            "text/plain": [
              "array([[116, 220,  84],\n",
              "       [ 66, 135,  50],\n",
              "       [ 95, 169,  63]])"
            ]
          },
          "metadata": {},
          "execution_count": 92
        }
      ]
    },
    {
      "cell_type": "code",
      "metadata": {
        "colab": {
          "base_uri": "https://localhost:8080/"
        },
        "id": "wNLBzoxwDHJZ",
        "outputId": "192db22e-c491-40c3-a172-b1c870c7e7f3"
      },
      "source": [
        "np.array_equal(A4,B4)"
      ],
      "execution_count": null,
      "outputs": [
        {
          "output_type": "execute_result",
          "data": {
            "text/plain": [
              "True"
            ]
          },
          "metadata": {},
          "execution_count": 93
        }
      ]
    },
    {
      "cell_type": "markdown",
      "metadata": {
        "id": "u4nmt0kOXsxt"
      },
      "source": [
        "![4.png](data:image/png;base64,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)"
      ]
    },
    {
      "cell_type": "code",
      "metadata": {
        "colab": {
          "base_uri": "https://localhost:8080/"
        },
        "id": "25SQRsQ_DRl3",
        "outputId": "8ea77e05-2009-4571-e443-deeef44991f5"
      },
      "source": [
        "#5\n",
        "A5 = A @ B5\n",
        "A5"
      ],
      "execution_count": null,
      "outputs": [
        {
          "output_type": "execute_result",
          "data": {
            "text/plain": [
              "array([[6., 9., 6.],\n",
              "       [4., 2., 0.],\n",
              "       [1., 8., 1.]])"
            ]
          },
          "metadata": {},
          "execution_count": 121
        }
      ]
    },
    {
      "cell_type": "code",
      "metadata": {
        "colab": {
          "base_uri": "https://localhost:8080/"
        },
        "id": "UtBN0aPKEcIq",
        "outputId": "693fe402-8164-4178-805e-b02a22193ba5"
      },
      "source": [
        "B5 = np.eye(3)\n",
        "B5"
      ],
      "execution_count": null,
      "outputs": [
        {
          "output_type": "execute_result",
          "data": {
            "text/plain": [
              "array([[1., 0., 0.],\n",
              "       [0., 1., 0.],\n",
              "       [0., 0., 1.]])"
            ]
          },
          "metadata": {},
          "execution_count": 120
        }
      ]
    },
    {
      "cell_type": "code",
      "metadata": {
        "colab": {
          "base_uri": "https://localhost:8080/"
        },
        "id": "yyZhiVkaDc3I",
        "outputId": "0ab41a0a-6863-41ea-f1d7-3e8e78888896"
      },
      "source": [
        "np.array_equal(A5,B5)"
      ],
      "execution_count": null,
      "outputs": [
        {
          "output_type": "execute_result",
          "data": {
            "text/plain": [
              "False"
            ]
          },
          "metadata": {},
          "execution_count": 122
        }
      ]
    },
    {
      "cell_type": "markdown",
      "metadata": {
        "id": "yDggGeLybC9S"
      },
      "source": [
        "![5.png](data:image/png;base64,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)"
      ]
    },
    {
      "cell_type": "code",
      "metadata": {
        "colab": {
          "base_uri": "https://localhost:8080/"
        },
        "id": "0Hgmz_YBDjaH",
        "outputId": "da87b8f5-694f-4977-a7e2-b4fe502f9048"
      },
      "source": [
        "#6\n",
        "A6 = np.zeros(A.shape)\n",
        "A6"
      ],
      "execution_count": null,
      "outputs": [
        {
          "output_type": "execute_result",
          "data": {
            "text/plain": [
              "array([[0., 0., 0.],\n",
              "       [0., 0., 0.],\n",
              "       [0., 0., 0.]])"
            ]
          },
          "metadata": {},
          "execution_count": 95
        }
      ]
    },
    {
      "cell_type": "code",
      "metadata": {
        "colab": {
          "base_uri": "https://localhost:8080/"
        },
        "id": "UOg6O2Q9ER7j",
        "outputId": "11e1b9ae-b6f5-4daa-dd2b-c5d888291b6c"
      },
      "source": [
        "B6 = A.dot(np.zeros(A.shape))\n",
        "B6"
      ],
      "execution_count": null,
      "outputs": [
        {
          "output_type": "execute_result",
          "data": {
            "text/plain": [
              "array([[0., 0., 0.],\n",
              "       [0., 0., 0.],\n",
              "       [0., 0., 0.]])"
            ]
          },
          "metadata": {},
          "execution_count": 96
        }
      ]
    },
    {
      "cell_type": "code",
      "metadata": {
        "colab": {
          "base_uri": "https://localhost:8080/"
        },
        "id": "CLksAbToEVmI",
        "outputId": "5f476006-75d3-4c16-fa5e-af7a12e641e2"
      },
      "source": [
        "np.array_equal(A6,B6)"
      ],
      "execution_count": null,
      "outputs": [
        {
          "output_type": "execute_result",
          "data": {
            "text/plain": [
              "True"
            ]
          },
          "metadata": {},
          "execution_count": 97
        }
      ]
    },
    {
      "cell_type": "markdown",
      "metadata": {
        "id": "k3fY_3rWXuj7"
      },
      "source": [
        "![6.png](data:image/png;base64,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)"
      ]
    },
    {
      "cell_type": "markdown",
      "metadata": {
        "id": "c3T8tEKU_TUN"
      },
      "source": [
        "## ***CONCLUSION***\n",
        "For your conclusion synthesize the concept and application of the laboratory. Briefly discuss what you have learned and achieved in this activity."
      ]
    },
    {
      "cell_type": "markdown",
      "metadata": {
        "id": "P2pTCq4p_ZmG"
      },
      "source": [
        "In conclusion to this laboratory experiment, this activity aimed to furthermore broaden the knowledge of the students regarding the matrix and its operation; This laboratory experiment is somewhat similar to our last laboratory experiment, which also tackles matrices and their operations. The difference is that this laboratory experiment mainly focused on topics such as Transposition, Dot Product, Determinant, and Inverse. The concept of this laboratory experiment is for us to prove the six (6) given equation to us, which is related to the topic discussed to us. Based on the task given to us, I have learned how to apply matrix operations in order to solve various equation using the Python Language. I have also learned how to apply matrix algebra in engineering solutions. "
      ]
    }
  ]
}