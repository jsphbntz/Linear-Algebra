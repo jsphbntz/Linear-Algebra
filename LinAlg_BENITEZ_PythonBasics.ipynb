{
  "nbformat": 4,
  "nbformat_minor": 0,
  "metadata": {
    "colab": {
      "name": "Assignment2.ipynb",
      "provenance": [],
      "collapsed_sections": [],
      "include_colab_link": true
    },
    "kernelspec": {
      "name": "python3",
      "display_name": "Python 3"
    },
    "language_info": {
      "name": "python"
    }
  },
  "cells": [
    {
      "cell_type": "markdown",
      "metadata": {
        "id": "view-in-github",
        "colab_type": "text"
      },
      "source": [
        "<a href=\"https://colab.research.google.com/github/jsphbntz/Linear-Algebra/blob/main/LinAlg_BENITEZ_PythonBasics.ipynb\" target=\"_parent\"><img src=\"https://colab.research.google.com/assets/colab-badge.svg\" alt=\"Open In Colab\"/></a>"
      ]
    },
    {
      "cell_type": "markdown",
      "metadata": {
        "id": "QKTWJy5d2CZt"
      },
      "source": [
        "## **Welcome to Phython Fundamentals!**\n",
        "In this module, we are going to establish our skills in Python programming. In this notebook we are going to cover:\n",
        "\n",
        "*   Variable and Data Types\n",
        "*   Operations\n",
        "*   Input and Output Operations\n",
        "*   Logic Control\n",
        "*   Iterables\n",
        "*   Functions\n",
        "\n"
      ]
    },
    {
      "cell_type": "markdown",
      "metadata": {
        "id": "_PNfZHir2oip"
      },
      "source": [
        "## **Variables and Data Types**\n",
        "![image](https://cdn.educba.com/academy/wp-content/uploads/2019/09/Python-Variable-Types.png)\n",
        "\n",
        "<blockquote> Here in Python, Variable and Data types are dependent on which type of data that are going to be used according to the users will. Variable and Data types may be used for declaring, defining and performing mathematical functions based on the input by the user. An example of this \"so-called\" variable types that are commonly used in coding is the integer variable type."
      ]
    },
    {
      "cell_type": "code",
      "metadata": {
        "id": "9SiJCBxi3ZC5"
      },
      "source": [
        "x = 1\n",
        "a,b = 3, -2"
      ],
      "execution_count": null,
      "outputs": []
    },
    {
      "cell_type": "code",
      "metadata": {
        "colab": {
          "base_uri": "https://localhost:8080/"
        },
        "id": "D8qauwPt3gUf",
        "outputId": "d264fd9c-85a8-4d00-b197-dee5fca782e2"
      },
      "source": [
        "type(x)"
      ],
      "execution_count": null,
      "outputs": [
        {
          "output_type": "execute_result",
          "data": {
            "text/plain": [
              "int"
            ]
          },
          "metadata": {},
          "execution_count": 3
        }
      ]
    },
    {
      "cell_type": "code",
      "metadata": {
        "id": "6twwlVHv3oRq"
      },
      "source": [
        "y = 3.0\n",
        "type(y)"
      ],
      "execution_count": null,
      "outputs": []
    },
    {
      "cell_type": "code",
      "metadata": {
        "colab": {
          "base_uri": "https://localhost:8080/"
        },
        "id": "Lm_gbc2X5Edq",
        "outputId": "84f09f02-8b06-4a15-998b-5e5037b5f168"
      },
      "source": [
        "x = float(x)\n",
        "type(x)\n",
        "x"
      ],
      "execution_count": null,
      "outputs": [
        {
          "output_type": "execute_result",
          "data": {
            "text/plain": [
              "1.0"
            ]
          },
          "metadata": {},
          "execution_count": 10
        }
      ]
    },
    {
      "cell_type": "code",
      "metadata": {
        "colab": {
          "base_uri": "https://localhost:8080/"
        },
        "id": "AIBxGmuA5IEb",
        "outputId": "9df88e83-03a1-4aa1-dcd8-d6d2b45cf0fc"
      },
      "source": [
        "s, t, u = \"1\", '3', 'three'\n",
        "type(s)"
      ],
      "execution_count": null,
      "outputs": [
        {
          "output_type": "execute_result",
          "data": {
            "text/plain": [
              "str"
            ]
          },
          "metadata": {},
          "execution_count": 15
        }
      ]
    },
    {
      "cell_type": "markdown",
      "metadata": {
        "id": "ROVCrZOegMHG"
      },
      "source": [
        "## **Operations**\n",
        "![image](https://www.mathsisfun.com/definitions/images/operations.gif)\n",
        "<blockquote> A mathematical process which is applied to solve a given mathematical problem. It consists of countless number of operations ranging from the basics, which are the Addition, Subtraction, Multiplication, Division. "
      ]
    },
    {
      "cell_type": "code",
      "metadata": {
        "colab": {
          "base_uri": "https://localhost:8080/",
          "height": 81
        },
        "id": "peiV6_6mpqMn",
        "outputId": "80f3d681-22ab-42cb-f329-5650db04dfe3"
      },
      "source": [
        "#@title \n",
        "%%html\n",
        "<style>\n",
        "  body {background-color: #AEC6CF;}\n",
        "</style>\n",
        "<body>\n",
        "<h2 style=\"font-family: Anka/Coder;\"> Arithmetic </h2>\n",
        "A bunch of indicators or symbols that denote that a specific mathematical operation is needed.\n",
        "</body>"
      ],
      "execution_count": null,
      "outputs": [
        {
          "output_type": "display_data",
          "data": {
            "text/html": [
              "<style>\n",
              "  body {background-color: #AEC6CF;}\n",
              "</style>\n",
              "<body>\n",
              "<h2 style=\"font-family: Anka/Coder;\"> Arithmetic </h2>\n",
              "A bunch of indicators or symbols that denote that a specific mathematical operation is needed.\n",
              "</body>"
            ],
            "text/plain": [
              "<IPython.core.display.HTML object>"
            ]
          },
          "metadata": {}
        }
      ]
    },
    {
      "cell_type": "code",
      "metadata": {
        "id": "AO48hZop6EVK"
      },
      "source": [
        "w, x, y, z = 4.0, -3.0, 2, -32"
      ],
      "execution_count": null,
      "outputs": []
    },
    {
      "cell_type": "code",
      "metadata": {
        "colab": {
          "base_uri": "https://localhost:8080/"
        },
        "id": "fD1DExIP6Iqc",
        "outputId": "ca5cf340-a2a6-458e-8214-a18aa5dfe5aa"
      },
      "source": [
        "### Addition\n",
        "S = w + x\n",
        "S"
      ],
      "execution_count": null,
      "outputs": [
        {
          "output_type": "execute_result",
          "data": {
            "text/plain": [
              "1.0"
            ]
          },
          "metadata": {},
          "execution_count": 32
        }
      ]
    },
    {
      "cell_type": "code",
      "metadata": {
        "id": "BO9Gl8KP6Lu7"
      },
      "source": [
        "### Subtraction"
      ],
      "execution_count": null,
      "outputs": []
    },
    {
      "cell_type": "code",
      "metadata": {
        "colab": {
          "base_uri": "https://localhost:8080/"
        },
        "id": "EAqwxJsC6VWj",
        "outputId": "562eb181-54c4-4b61-c90e-3b463965d2ae"
      },
      "source": [
        "D = y - z\n",
        "D"
      ],
      "execution_count": null,
      "outputs": [
        {
          "output_type": "execute_result",
          "data": {
            "text/plain": [
              "33"
            ]
          },
          "metadata": {},
          "execution_count": 31
        }
      ]
    },
    {
      "cell_type": "code",
      "metadata": {
        "colab": {
          "base_uri": "https://localhost:8080/"
        },
        "id": "sbaBAtg06Wcj",
        "outputId": "218f22c2-c8bc-4114-9e5e-55f0a7ecdacd"
      },
      "source": [
        "### Multiplication\n",
        "P = w*z\n",
        "P"
      ],
      "execution_count": null,
      "outputs": [
        {
          "output_type": "execute_result",
          "data": {
            "text/plain": [
              "-128.0"
            ]
          },
          "metadata": {},
          "execution_count": 29
        }
      ]
    },
    {
      "cell_type": "code",
      "metadata": {
        "colab": {
          "base_uri": "https://localhost:8080/"
        },
        "id": "ZDt-ARP_6bVK",
        "outputId": "3a931b66-910b-4e29-a042-d4d327ebebb3"
      },
      "source": [
        "### Division\n",
        "Q = y/x\n",
        "Q"
      ],
      "execution_count": null,
      "outputs": [
        {
          "output_type": "execute_result",
          "data": {
            "text/plain": [
              "-0.3333333333333333"
            ]
          },
          "metadata": {},
          "execution_count": 33
        }
      ]
    },
    {
      "cell_type": "markdown",
      "metadata": {
        "id": "9pgkHD9Dsc8_"
      },
      "source": [
        "![image](https://i.ytimg.com/vi/HGVjBWsDvMY/maxresdefault.jpg)\n",
        "<blockquote> Floor division is just like the division we all are familiarized. The difference between the widely known division and floor division is that floor division returns the largest possible integer. It is denoted by \"⌊ ⌋\" symbol."
      ]
    },
    {
      "cell_type": "code",
      "metadata": {
        "colab": {
          "base_uri": "https://localhost:8080/"
        },
        "id": "alsI0vuH6glK",
        "outputId": "58ca0ab6-66b9-4d43-fd52-b4e3430125ab"
      },
      "source": [
        "### Floor Division\n",
        "Qf = w//x\n",
        "Qf"
      ],
      "execution_count": null,
      "outputs": [
        {
          "output_type": "execute_result",
          "data": {
            "text/plain": [
              "-2.0"
            ]
          },
          "metadata": {},
          "execution_count": 26
        }
      ]
    },
    {
      "cell_type": "code",
      "metadata": {
        "colab": {
          "base_uri": "https://localhost:8080/"
        },
        "id": "Rl3eU-6d6jNy",
        "outputId": "3af816d5-4e86-4fae-9bc3-8c9de7331582"
      },
      "source": [
        "### Exponentiation\n",
        "E = w**w\n",
        "E"
      ],
      "execution_count": null,
      "outputs": [
        {
          "output_type": "execute_result",
          "data": {
            "text/plain": [
              "256.0"
            ]
          },
          "metadata": {},
          "execution_count": 37
        }
      ]
    },
    {
      "cell_type": "markdown",
      "metadata": {
        "id": "sBvJw4hYyA3e"
      },
      "source": [
        "![image](https://quizforexam.com/wp-content/uploads/2020/10/mod.jpg)\n",
        "<blockquote> Modulo is a math operation like the Division, and the Floor Divion. It's difference between the two is that it finds the remainder when one integer is divided by another. Modulo is identified as mod or is represented by the symbol %."
      ]
    },
    {
      "cell_type": "code",
      "metadata": {
        "colab": {
          "base_uri": "https://localhost:8080/"
        },
        "id": "oF25_VDz7KIS",
        "outputId": "e7ee1583-5d35-45a1-c318-58d72d25941f"
      },
      "source": [
        "### Modulo\n",
        "mod = z%x\n",
        "mod"
      ],
      "execution_count": null,
      "outputs": [
        {
          "output_type": "execute_result",
          "data": {
            "text/plain": [
              "-2.0"
            ]
          },
          "metadata": {},
          "execution_count": 38
        }
      ]
    },
    {
      "cell_type": "code",
      "metadata": {
        "colab": {
          "base_uri": "https://localhost:8080/",
          "height": 81
        },
        "id": "dT1eCRf2uaDZ",
        "outputId": "721629cd-df7f-4ed1-a2e7-a5f261ac3f03"
      },
      "source": [
        "#@title \n",
        "%%html\n",
        "<style>\n",
        "  body {background-color: #AEC6CF;}\n",
        "</style>\n",
        "<body>\n",
        "<h2 style=\"font-family: Anka/Coder;\"> Assignment </h2>\n",
        "operator used to assign a new value to a variable, property, event or indexer element\n",
        "</body>"
      ],
      "execution_count": null,
      "outputs": [
        {
          "output_type": "display_data",
          "data": {
            "text/html": [
              "<style>\n",
              "  body {background-color: #AEC6CF;}\n",
              "</style>\n",
              "<body>\n",
              "<h2 style=\"font-family: Anka/Coder;\"> Assignment </h2>\n",
              "operator used to assign a new value to a variable, property, event or indexer element\n",
              "</body>"
            ],
            "text/plain": [
              "<IPython.core.display.HTML object>"
            ]
          },
          "metadata": {}
        }
      ]
    },
    {
      "cell_type": "code",
      "metadata": {
        "id": "INqYXsck7wJZ"
      },
      "source": [
        "A, B, C, D, E = 0, 100, 2, 1, 2"
      ],
      "execution_count": null,
      "outputs": []
    },
    {
      "cell_type": "code",
      "metadata": {
        "colab": {
          "base_uri": "https://localhost:8080/"
        },
        "id": "Py8FU3Nr72LR",
        "outputId": "164710f1-4c73-4d5e-d845-7da623c0c3cf"
      },
      "source": [
        "A += w\n",
        "A"
      ],
      "execution_count": null,
      "outputs": [
        {
          "output_type": "execute_result",
          "data": {
            "text/plain": [
              "16.0"
            ]
          },
          "metadata": {},
          "execution_count": 43
        }
      ]
    },
    {
      "cell_type": "code",
      "metadata": {
        "colab": {
          "base_uri": "https://localhost:8080/"
        },
        "id": "JjsZ1WtH8J-S",
        "outputId": "f6068f83-d93b-4243-a393-576bf50ca9d6"
      },
      "source": [
        "B -= x\n",
        "B"
      ],
      "execution_count": null,
      "outputs": [
        {
          "output_type": "execute_result",
          "data": {
            "text/plain": [
              "115.0"
            ]
          },
          "metadata": {},
          "execution_count": 48
        }
      ]
    },
    {
      "cell_type": "code",
      "metadata": {
        "colab": {
          "base_uri": "https://localhost:8080/"
        },
        "id": "tkoiuMG48Q9p",
        "outputId": "0d4ff3f0-55bc-4e30-9ae7-0726b98d9d0e"
      },
      "source": [
        "C *= w\n",
        "C"
      ],
      "execution_count": null,
      "outputs": [
        {
          "output_type": "execute_result",
          "data": {
            "text/plain": [
              "32.0"
            ]
          },
          "metadata": {},
          "execution_count": 53
        }
      ]
    },
    {
      "cell_type": "code",
      "metadata": {
        "colab": {
          "base_uri": "https://localhost:8080/"
        },
        "id": "8SR9avFa8g8B",
        "outputId": "dad53e21-75ce-42d9-b6ac-edadeedf2910"
      },
      "source": [
        "D /= x\n",
        "D"
      ],
      "execution_count": null,
      "outputs": [
        {
          "output_type": "execute_result",
          "data": {
            "text/plain": [
              "-0.3333333333333333"
            ]
          },
          "metadata": {},
          "execution_count": 54
        }
      ]
    },
    {
      "cell_type": "code",
      "metadata": {
        "colab": {
          "base_uri": "https://localhost:8080/"
        },
        "id": "usV7BiWJ9k9B",
        "outputId": "22dd1518-197c-475b-b9cb-093f9c441449"
      },
      "source": [
        "E **= y\n",
        "E"
      ],
      "execution_count": null,
      "outputs": [
        {
          "output_type": "execute_result",
          "data": {
            "text/plain": [
              "256.0"
            ]
          },
          "metadata": {},
          "execution_count": 66
        }
      ]
    },
    {
      "cell_type": "code",
      "metadata": {
        "colab": {
          "base_uri": "https://localhost:8080/",
          "height": 81
        },
        "id": "XBZQ2lT7uhmh",
        "outputId": "d0fb06c0-7436-45f4-d822-abdc64decfd9"
      },
      "source": [
        "#@title \n",
        "%%html\n",
        "<style>\n",
        "  body {background-color: #AEC6CF;}\n",
        "</style>\n",
        "<body>\n",
        "<h2 style=\"font-family: Anka/Coder;\"> Comparators </h2>\n",
        "Variable used to compare different types of objects based on the users preferences.\n",
        "</body>"
      ],
      "execution_count": null,
      "outputs": [
        {
          "output_type": "display_data",
          "data": {
            "text/html": [
              "<style>\n",
              "  body {background-color: #AEC6CF;}\n",
              "</style>\n",
              "<body>\n",
              "<h2 style=\"font-family: Anka/Coder;\"> Comparators </h2>\n",
              "Variable used to compare different types of objects based on the users preferences.\n",
              "</body>"
            ],
            "text/plain": [
              "<IPython.core.display.HTML object>"
            ]
          },
          "metadata": {}
        }
      ]
    },
    {
      "cell_type": "markdown",
      "metadata": {
        "id": "W_5uW6TP9C1r"
      },
      "source": [
        "![image](https://i0.wp.com/techvidvan.com/tutorials/wp-content/uploads/sites/2/2019/12/python-comparison-operators.jpg?w=802&ssl=1)"
      ]
    },
    {
      "cell_type": "code",
      "metadata": {
        "id": "vl_lKR4d-VQJ"
      },
      "source": [
        "size_1, size_2, size_3 = 1,2.0, \"1\"\n",
        "true_size = 1.0"
      ],
      "execution_count": null,
      "outputs": []
    },
    {
      "cell_type": "code",
      "metadata": {
        "colab": {
          "base_uri": "https://localhost:8080/"
        },
        "id": "fwjPtySy-j34",
        "outputId": "2d1cd2fa-053a-4c81-92f0-37ba60352a34"
      },
      "source": [
        "## Equality\n",
        "size_1 == true_size"
      ],
      "execution_count": null,
      "outputs": [
        {
          "output_type": "execute_result",
          "data": {
            "text/plain": [
              "True"
            ]
          },
          "metadata": {},
          "execution_count": 70
        }
      ]
    },
    {
      "cell_type": "code",
      "metadata": {
        "colab": {
          "base_uri": "https://localhost:8080/"
        },
        "id": "jm03K4Tk-yN4",
        "outputId": "025eb2c1-be56-4c19-e970-9f789617a795"
      },
      "source": [
        "## Non-Equality\n",
        "size_2 != true_size"
      ],
      "execution_count": null,
      "outputs": [
        {
          "output_type": "execute_result",
          "data": {
            "text/plain": [
              "True"
            ]
          },
          "metadata": {},
          "execution_count": 71
        }
      ]
    },
    {
      "cell_type": "code",
      "metadata": {
        "id": "g1jB6rfa-_3o"
      },
      "source": [
        "## Inequality\n",
        "s1 = size_1 > size_2\n",
        "s2 = size_1 < size_2/2\n",
        "s3 = true_size >= size_1\n",
        "s4 = size_2 <= true_size"
      ],
      "execution_count": null,
      "outputs": []
    },
    {
      "cell_type": "code",
      "metadata": {
        "colab": {
          "base_uri": "https://localhost:8080/",
          "height": 81
        },
        "id": "CSBNZqreulJ_",
        "outputId": "53629a09-6a37-487a-e465-bc0db6d3b253"
      },
      "source": [
        "#@title \n",
        "%%html\n",
        "<style>\n",
        "  body {background-color: #AEC6CF;}\n",
        "</style>\n",
        "<body>\n",
        "<h2 style=\"font-family: Anka/Coder;\"> Logical </h2>\n",
        "A set of principles that portrays how elements should be arranged so a computer can perform specific tasks without failures.\n",
        "</body>"
      ],
      "execution_count": null,
      "outputs": [
        {
          "output_type": "display_data",
          "data": {
            "text/html": [
              "<style>\n",
              "  body {background-color: #AEC6CF;}\n",
              "</style>\n",
              "<body>\n",
              "<h2 style=\"font-family: Anka/Coder;\"> Logical </h2>\n",
              "A set of principles that portrays how elements should be arranged so a computer can perform specific tasks without failures.\n",
              "</body>"
            ],
            "text/plain": [
              "<IPython.core.display.HTML object>"
            ]
          },
          "metadata": {}
        }
      ]
    },
    {
      "cell_type": "code",
      "metadata": {
        "colab": {
          "base_uri": "https://localhost:8080/"
        },
        "id": "a77-4SN__7yQ",
        "outputId": "62c5c0ed-cf14-4660-acc7-8f5ef07cd8e1"
      },
      "source": [
        "size_1 == true_size\n",
        "size_1"
      ],
      "execution_count": null,
      "outputs": [
        {
          "output_type": "execute_result",
          "data": {
            "text/plain": [
              "1"
            ]
          },
          "metadata": {},
          "execution_count": 79
        }
      ]
    },
    {
      "cell_type": "code",
      "metadata": {
        "colab": {
          "base_uri": "https://localhost:8080/"
        },
        "id": "mtbNVcO6_-hg",
        "outputId": "ed7a6bcd-b9cb-437a-b5b1-8a7e9a4c9799"
      },
      "source": [
        "size_1 is true_size"
      ],
      "execution_count": null,
      "outputs": [
        {
          "output_type": "execute_result",
          "data": {
            "text/plain": [
              "False"
            ]
          },
          "metadata": {},
          "execution_count": 80
        }
      ]
    },
    {
      "cell_type": "code",
      "metadata": {
        "colab": {
          "base_uri": "https://localhost:8080/"
        },
        "id": "xM38py7WAQXY",
        "outputId": "ad911a23-2e65-4407-877b-2b646451aa67"
      },
      "source": [
        "size_1 is not true_size"
      ],
      "execution_count": null,
      "outputs": [
        {
          "output_type": "execute_result",
          "data": {
            "text/plain": [
              "True"
            ]
          },
          "metadata": {},
          "execution_count": 81
        }
      ]
    },
    {
      "cell_type": "code",
      "metadata": {
        "colab": {
          "base_uri": "https://localhost:8080/"
        },
        "id": "WmuOQooPAnlI",
        "outputId": "94afe0af-5360-4cae-d70f-5122e5e74930"
      },
      "source": [
        "P, Q = True, False\n",
        "conj = P and Q\n",
        "conj"
      ],
      "execution_count": null,
      "outputs": [
        {
          "output_type": "execute_result",
          "data": {
            "text/plain": [
              "False"
            ]
          },
          "metadata": {},
          "execution_count": 83
        }
      ]
    },
    {
      "cell_type": "code",
      "metadata": {
        "colab": {
          "base_uri": "https://localhost:8080/"
        },
        "id": "MDg6hKQEAvzH",
        "outputId": "9d6c3590-d5eb-4141-b226-a6531258250a"
      },
      "source": [
        "disj = P or Q\n",
        "disj"
      ],
      "execution_count": null,
      "outputs": [
        {
          "output_type": "execute_result",
          "data": {
            "text/plain": [
              "True"
            ]
          },
          "metadata": {},
          "execution_count": 84
        }
      ]
    },
    {
      "cell_type": "code",
      "metadata": {
        "colab": {
          "base_uri": "https://localhost:8080/"
        },
        "id": "yXAOtj4LBBrw",
        "outputId": "952518b2-c5f4-4895-8993-0d4a6a8aeaf4"
      },
      "source": [
        "nand = not(P and Q)\n",
        "nand"
      ],
      "execution_count": null,
      "outputs": [
        {
          "output_type": "execute_result",
          "data": {
            "text/plain": [
              "True"
            ]
          },
          "metadata": {},
          "execution_count": 85
        }
      ]
    },
    {
      "cell_type": "code",
      "metadata": {
        "colab": {
          "base_uri": "https://localhost:8080/"
        },
        "id": "XepECEXsBVh_",
        "outputId": "a94157be-410f-4ca2-a78c-40a168136a54"
      },
      "source": [
        "xor = (not P and Q) or (P and not Q)\n",
        "xor"
      ],
      "execution_count": null,
      "outputs": [
        {
          "output_type": "execute_result",
          "data": {
            "text/plain": [
              "True"
            ]
          },
          "metadata": {},
          "execution_count": 86
        }
      ]
    },
    {
      "cell_type": "code",
      "metadata": {
        "colab": {
          "base_uri": "https://localhost:8080/",
          "height": 81
        },
        "id": "ePBR98DOuoiP",
        "outputId": "faa6cdc4-4973-4d38-eedb-c9f85cb565b6"
      },
      "source": [
        "#@title \n",
        "%%html\n",
        "<style>\n",
        "  body {background-color: #AEC6CF;}\n",
        "</style>\n",
        "<body>\n",
        "<h2 style=\"font-family: Anka/Coder;\"> Input & Output </h2>\n",
        "Refers to the communication between a computer program and user. Input refers to the user giving something to the program, while output refers to the program giving something back to the user.\n",
        "</body>"
      ],
      "execution_count": null,
      "outputs": [
        {
          "output_type": "display_data",
          "data": {
            "text/html": [
              "<style>\n",
              "  body {background-color: #AEC6CF;}\n",
              "</style>\n",
              "<body>\n",
              "<h2 style=\"font-family: Anka/Coder;\"> Input & Output </h2>\n",
              "Refers to the communication between a computer program and user. Input refers to the user giving something to the program, while output refers to the program giving something back to the user.\n",
              "</body>"
            ],
            "text/plain": [
              "<IPython.core.display.HTML object>"
            ]
          },
          "metadata": {}
        }
      ]
    },
    {
      "cell_type": "code",
      "metadata": {
        "colab": {
          "base_uri": "https://localhost:8080/"
        },
        "id": "spq_EY88B25B",
        "outputId": "7efd463b-6e2c-49f9-faba-bf89a0a1d72c"
      },
      "source": [
        "print(\"Hello World!\")"
      ],
      "execution_count": null,
      "outputs": [
        {
          "output_type": "stream",
          "name": "stdout",
          "text": [
            "Hello World!\n"
          ]
        }
      ]
    },
    {
      "cell_type": "code",
      "metadata": {
        "id": "WDmq8YwnCAqI"
      },
      "source": [
        "cnt = 14000"
      ],
      "execution_count": null,
      "outputs": []
    },
    {
      "cell_type": "code",
      "metadata": {
        "colab": {
          "base_uri": "https://localhost:8080/"
        },
        "id": "lROzuR5TCG1_",
        "outputId": "b1a08f70-cd40-4a86-914d-c3f687d3687a"
      },
      "source": [
        "string= \"Hello World!\"\n",
        "print(string, \", Current COVID count is:\", cnt)\n",
        "cnt += 10000"
      ],
      "execution_count": null,
      "outputs": [
        {
          "output_type": "stream",
          "name": "stdout",
          "text": [
            "Hello World! , Current COVID count is: 44000\n"
          ]
        }
      ]
    },
    {
      "cell_type": "code",
      "metadata": {
        "colab": {
          "base_uri": "https://localhost:8080/"
        },
        "id": "-KYlnDNLDHP3",
        "outputId": "e6255f89-89eb-4aa0-ef4c-07d9836316c4"
      },
      "source": [
        "print(f\"{string}, current count is: {cnt}\")"
      ],
      "execution_count": null,
      "outputs": [
        {
          "output_type": "stream",
          "name": "stdout",
          "text": [
            "Hello World!, current count is: 54000\n"
          ]
        }
      ]
    },
    {
      "cell_type": "code",
      "metadata": {
        "colab": {
          "base_uri": "https://localhost:8080/"
        },
        "id": "edP0czOoD634",
        "outputId": "aad082b4-525a-41a6-88a8-cb5819e26772"
      },
      "source": [
        "sem_grade = 86.25\n",
        "name = \"Joseph\"\n",
        "print(\"Hello {}, your semestral grade is: {}\".format(name, sem_grade))"
      ],
      "execution_count": null,
      "outputs": [
        {
          "output_type": "stream",
          "name": "stdout",
          "text": [
            "Hello Joseph, your semestral grade is: 86.25\n"
          ]
        }
      ]
    },
    {
      "cell_type": "code",
      "metadata": {
        "colab": {
          "base_uri": "https://localhost:8080/"
        },
        "id": "MGT2oj2PDRQY",
        "outputId": "e78f1c8a-0732-4aec-ad51-7165e64566d6"
      },
      "source": [
        "pg, mg, fg = 0.3, 0.3, 0.4\n",
        "print(\"The weights of your semestral grades are:\\\n",
        "\\n\\t {:.2%} for Prelim\\\n",
        "\\n\\t {:.2%} for Midterms, and\\\n",
        "\\n\\t {:.2%} for Finals.\".format(pg, mg, fg))"
      ],
      "execution_count": null,
      "outputs": [
        {
          "output_type": "stream",
          "name": "stdout",
          "text": [
            "The weights of your semestral grades are:\n",
            "\t 30.00% for Prelim\n",
            "\t 30.00% for Midterms, and\n",
            "\t 40.00% for Finals.\n"
          ]
        }
      ]
    },
    {
      "cell_type": "code",
      "metadata": {
        "colab": {
          "base_uri": "https://localhost:8080/",
          "height": 52
        },
        "id": "ffJkSMt6EfW-",
        "outputId": "901837c4-6519-4cb1-970a-5cb4b454dae2"
      },
      "source": [
        "e = input(\"Enter a number: \")\n",
        "e"
      ],
      "execution_count": null,
      "outputs": [
        {
          "name": "stdout",
          "output_type": "stream",
          "text": [
            "Enter a number: 1\n"
          ]
        },
        {
          "output_type": "execute_result",
          "data": {
            "application/vnd.google.colaboratory.intrinsic+json": {
              "type": "string"
            },
            "text/plain": [
              "'1'"
            ]
          },
          "metadata": {},
          "execution_count": 120
        }
      ]
    },
    {
      "cell_type": "code",
      "metadata": {
        "id": "Qk0Fq2EpFl2t"
      },
      "source": [
        "name = input(\"Enter your name: \")\n",
        "prelimsgrade = int(input(\"Enter your prelim grade: \"))\n",
        "midtermsgrade = int(input(\"Enter your midterm grade: \"))\n",
        "finalsgrade = int(input(\"Enter your finals grade: \"))\n",
        "sum = int(prelimsgrade + midtermsgrade + finalsgrade)\n",
        "semester_grade = sum/3\n",
        "print(\"Hello {}, your semestral grade is: {}\".format(name, semester_grade))"
      ],
      "execution_count": null,
      "outputs": []
    },
    {
      "cell_type": "markdown",
      "metadata": {
        "id": "XRGF0q71LToz"
      },
      "source": [
        "### **Looping Statements**\n",
        "<blockquote> A series of statements that executes for a specified number of repetitions or until specified conditions are met.\n",
        "\n",
        "![image](https://ahseeit.com//king-include/uploads/2021/01/135621505_3490110337777630_2014426057131565060_n-5779826117.jpg)"
      ]
    },
    {
      "cell_type": "code",
      "metadata": {
        "colab": {
          "base_uri": "https://localhost:8080/",
          "height": 81
        },
        "id": "WdzVURrHuu6I",
        "outputId": "551f44d8-558f-43c0-fd78-a5bf63341da1"
      },
      "source": [
        "#@title \n",
        "%%html\n",
        "<style>\n",
        "  body {background-color: #AEC6CF;}\n",
        "</style>\n",
        "<body>\n",
        "<h2 style=\"font-family: Anka/Coder;\"> While Statement </h2>\n",
        "A looping statement that enables the looping of sets multiple times until it reaches a false condition.\n",
        "</body>"
      ],
      "execution_count": null,
      "outputs": [
        {
          "output_type": "display_data",
          "data": {
            "text/html": [
              "<style>\n",
              "  body {background-color: #AEC6CF;}\n",
              "</style>\n",
              "<body>\n",
              "<h2 style=\"font-family: Anka/Coder;\"> While Statement </h2>\n",
              "A looping statement that enables the looping of sets multiple times until it reaches a false condition.\n",
              "</body>"
            ],
            "text/plain": [
              "<IPython.core.display.HTML object>"
            ]
          },
          "metadata": {}
        }
      ]
    },
    {
      "cell_type": "code",
      "metadata": {
        "colab": {
          "base_uri": "https://localhost:8080/"
        },
        "id": "UGaAzs8ZLYOL",
        "outputId": "c8c59595-f28a-4985-8aae-613cf5dd1501"
      },
      "source": [
        "## while loops\n",
        "i, j = 0, 10\n",
        "while(i<=j):\n",
        "  print(f\"{i}\\t|\\t{j}\")\n",
        "  i += 1"
      ],
      "execution_count": null,
      "outputs": [
        {
          "output_type": "stream",
          "name": "stdout",
          "text": [
            "0\t|\t10\n",
            "1\t|\t10\n",
            "2\t|\t10\n",
            "3\t|\t10\n",
            "4\t|\t10\n",
            "5\t|\t10\n",
            "6\t|\t10\n",
            "7\t|\t10\n",
            "8\t|\t10\n",
            "9\t|\t10\n",
            "10\t|\t10\n"
          ]
        }
      ]
    },
    {
      "cell_type": "code",
      "metadata": {
        "colab": {
          "base_uri": "https://localhost:8080/",
          "height": 81
        },
        "id": "ShEtgKhlu0UB",
        "outputId": "12bc7ae0-e1c8-416f-eb71-4c423b9c7cff"
      },
      "source": [
        "#@title \n",
        "%%html\n",
        "<style>\n",
        "  body {background-color: #AEC6CF;}\n",
        "</style>\n",
        "<body>\n",
        "<h2 style=\"font-family: Anka/Coder;\"> For Statement </h2>\n",
        "Looping statement that also enables the looping of sets multiple times until it reaches the end of condition or until it gets a false condition.\n",
        "</body>"
      ],
      "execution_count": null,
      "outputs": [
        {
          "output_type": "display_data",
          "data": {
            "text/html": [
              "<style>\n",
              "  body {background-color: #AEC6CF;}\n",
              "</style>\n",
              "<body>\n",
              "<h2 style=\"font-family: Anka/Coder;\"> For Statement </h2>\n",
              "Looping statement that also enables the looping of sets multiple times until it reaches the end of condition or until it gets a false condition.\n",
              "</body>"
            ],
            "text/plain": [
              "<IPython.core.display.HTML object>"
            ]
          },
          "metadata": {}
        }
      ]
    },
    {
      "cell_type": "code",
      "metadata": {
        "colab": {
          "base_uri": "https://localhost:8080/"
        },
        "id": "G3HHDGf8L9dD",
        "outputId": "12adc2fe-2cb6-4d83-8b70-dcc6b8c94066"
      },
      "source": [
        "# for(int = 0; i<10; i++){\n",
        "# printf(i)\n",
        "# }\n",
        "\n",
        "i = 0\n",
        "for i in range(11):\n",
        "   print(i)"
      ],
      "execution_count": null,
      "outputs": [
        {
          "output_type": "stream",
          "name": "stdout",
          "text": [
            "0\n",
            "1\n",
            "2\n",
            "3\n",
            "4\n",
            "5\n",
            "6\n",
            "7\n",
            "8\n",
            "9\n",
            "10\n"
          ]
        }
      ]
    },
    {
      "cell_type": "code",
      "metadata": {
        "colab": {
          "base_uri": "https://localhost:8080/"
        },
        "id": "7U9cE-gbMmcj",
        "outputId": "366adbd7-c8e4-417d-bfa8-da5c56ebc2f3"
      },
      "source": [
        "playlist = [\"Slow Dancing in the Dark\", \"YEAH RIGHT\", \"Urong; Sulong\"]\n",
        "print('Now Playing:\\n')\n",
        "for song in playlist:\n",
        "  print(song)"
      ],
      "execution_count": null,
      "outputs": [
        {
          "output_type": "stream",
          "name": "stdout",
          "text": [
            "Now Playing:\n",
            "\n",
            "Slow Dancing in the Dark\n",
            "YEAH RIGHT\n",
            "Urong; Sulong\n"
          ]
        }
      ]
    },
    {
      "cell_type": "markdown",
      "metadata": {
        "id": "-9Amh6QFNO0q"
      },
      "source": [
        "## **Flow Control**"
      ]
    },
    {
      "cell_type": "code",
      "metadata": {
        "colab": {
          "base_uri": "https://localhost:8080/",
          "height": 81
        },
        "id": "K_xhK8Lgu_e7",
        "outputId": "b7979343-8237-4062-c997-81d401b23084"
      },
      "source": [
        "#@title \n",
        "%%html\n",
        "<style>\n",
        "  body {background-color: #AEC6CF;}\n",
        "</style>\n",
        "<body>\n",
        "<h2 style=\"font-family: Anka/Coder;\"> Conditional Statement </h2>\n",
        "A looping statement used in making decisions based on the conditions given.\n",
        "</body>"
      ],
      "execution_count": null,
      "outputs": [
        {
          "output_type": "display_data",
          "data": {
            "text/html": [
              "<style>\n",
              "  body {background-color: #AEC6CF;}\n",
              "</style>\n",
              "<body>\n",
              "<h2 style=\"font-family: Anka/Coder;\"> Conditional Statement </h2>\n",
              "A looping statement used in making decisions based on the conditions given.\n",
              "</body>"
            ],
            "text/plain": [
              "<IPython.core.display.HTML object>"
            ]
          },
          "metadata": {}
        }
      ]
    },
    {
      "cell_type": "code",
      "metadata": {
        "colab": {
          "base_uri": "https://localhost:8080/"
        },
        "id": "xrK2BqvHNSyi",
        "outputId": "8336e130-62d3-4d0b-cc19-ffa93b48bc07"
      },
      "source": [
        "num_1, num_2 = 12, 12\n",
        "if(num_1 == num_2):\n",
        "  print(\"HAHA\")\n",
        "elif(num_1>num_2):\n",
        "  print(\"HOHO\")\n",
        "else:\n",
        "  print(\"HUHU\")"
      ],
      "execution_count": null,
      "outputs": [
        {
          "output_type": "stream",
          "name": "stdout",
          "text": [
            "HAHA\n"
          ]
        }
      ]
    },
    {
      "cell_type": "markdown",
      "metadata": {
        "id": "Q5KMsnhON-Ot"
      },
      "source": [
        "## **Functions**\n",
        "![image](https://cloudreports.net/wp-content/uploads/2019/06/Function_machine2.png)\n",
        "<blockquote> A function is a block of organized, reusable code that is used to achieve a specific outcome or to perform a single action."
      ]
    },
    {
      "cell_type": "code",
      "metadata": {
        "id": "NqwAcyKSN_ep"
      },
      "source": [
        "# void DeleteUser (int userid){\n",
        "#   delete(userid);\n",
        "#}\n",
        "\n",
        "def delete_user (userid):\n",
        "    print(\"Successfully delete user: {}\".format(userid))"
      ],
      "execution_count": null,
      "outputs": []
    },
    {
      "cell_type": "code",
      "metadata": {
        "colab": {
          "base_uri": "https://localhost:8080/"
        },
        "id": "QY5vzHzSOady",
        "outputId": "727d5a3d-d6f9-4692-a5f9-8209ea411e29"
      },
      "source": [
        "user = 202012281\n",
        "delete_user(202012281)"
      ],
      "execution_count": null,
      "outputs": [
        {
          "output_type": "stream",
          "name": "stdout",
          "text": [
            "Successfully delete user: 202012281\n"
          ]
        }
      ]
    },
    {
      "cell_type": "code",
      "metadata": {
        "id": "69TRx5CeOoqS"
      },
      "source": [
        "def add(addend1, addend2):\n",
        "    sum = addend1 + addend2\n",
        "    return sum"
      ],
      "execution_count": null,
      "outputs": []
    },
    {
      "cell_type": "code",
      "metadata": {
        "colab": {
          "base_uri": "https://localhost:8080/"
        },
        "id": "_a1WMhfZO6HB",
        "outputId": "25728265-3036-4674-9278-4ed49d74c987"
      },
      "source": [
        "add(3, 4)"
      ],
      "execution_count": null,
      "outputs": [
        {
          "output_type": "execute_result",
          "data": {
            "text/plain": [
              "7"
            ]
          },
          "metadata": {},
          "execution_count": 139
        }
      ]
    },
    {
      "cell_type": "markdown",
      "metadata": {
        "id": "3BF8EjyoTCp4"
      },
      "source": [
        "## **References:**\n",
        "\n",
        "[1] Priya Pedamkar (2020). [Variable Types](https://www.educba.com/python-variable-types/)\n",
        "\n",
        "[2] iCoachMath (2021). [Operations](http://www.icoachmath.com/math_dictionary/operation.html)\n",
        "\n",
        "[3] Edpresso Team (2021). [Floor Division](https://www.educative.io/edpresso/floor-division)\n",
        "\n",
        "[4] Computer Hope (2019). [Modulo](https://www.computerhope.com/jargon/m/modulo.htm) \n",
        "\n",
        "[5] Futurelearn (2021). [Functions](https://www.futurelearn.com/info/courses/begin-programming/0/steps/2965#:~:text=Functions%20(also%20called%20'procedures',of%20code%20in%20a%20program.)\n",
        "\n",
        "[6] TechVidvan (2021). [Comparators](https://techvidvan.com/tutorials/python-comparison-operators/)"
      ]
    },
    {
      "cell_type": "markdown",
      "metadata": {
        "id": "fslufnDb6WNx"
      },
      "source": [
        "![image](https://i.redd.it/btnhc2o3phr21.jpg)\n"
      ]
    }
  ]
}