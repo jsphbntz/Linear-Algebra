{
  "nbformat": 4,
  "nbformat_minor": 0,
  "metadata": {
    "colab": {
      "name": "Assignment10_Benitez.ipynb",
      "provenance": [],
      "collapsed_sections": [
        "lu3T2_iG_azk"
      ],
      "authorship_tag": "ABX9TyPmROUfYOzaoj0qdFH2sDZ7",
      "include_colab_link": true
    },
    "kernelspec": {
      "name": "python3",
      "display_name": "Python 3"
    },
    "language_info": {
      "name": "python"
    }
  },
  "cells": [
    {
      "cell_type": "markdown",
      "metadata": {
        "id": "view-in-github",
        "colab_type": "text"
      },
      "source": [
        "<a href=\"https://colab.research.google.com/github/jsphbntz/Linear-Algebra/blob/main/Assignment10_Benitez.ipynb\" target=\"_parent\"><img src=\"https://colab.research.google.com/assets/colab-badge.svg\" alt=\"Open In Colab\"/></a>"
      ]
    },
    {
      "cell_type": "markdown",
      "metadata": {
        "id": "lu3T2_iG_azk"
      },
      "source": [
        "# ***LINEAR ALGEBRA FOR ECE***\n",
        "## ***LABORATORY 10 : LINEAR COMBINATION AND VECTOR SPACES***"
      ]
    },
    {
      "cell_type": "markdown",
      "metadata": {
        "id": "0Qi7xF1d_kqJ"
      },
      "source": [
        "Now that you have a fundamental knowledge about linear combination, we'll try to visualize it using scientific programming."
      ]
    },
    {
      "cell_type": "markdown",
      "metadata": {
        "id": "Q-vyyzEf_npe"
      },
      "source": [
        "### ***OBJECTIVES***\n",
        "At the end of this activity you will be able to:\n",
        "1. Be familiar with representing linear combinations in the 2-dimensional plane.\n",
        "2. Visualize spans using vector fields in Python.\n",
        "3. Perform vector fields operations using scientific programming."
      ]
    },
    {
      "cell_type": "markdown",
      "metadata": {
        "id": "puvqAiPm_4Zs"
      },
      "source": [
        "# ***DISCUSSION***"
      ]
    },
    {
      "cell_type": "code",
      "metadata": {
        "id": "IrStpo7-_7Xw"
      },
      "source": [
        "import numpy as np\n",
        "import matplotlib.pyplot as plt\n",
        "%matplotlib inline"
      ],
      "execution_count": 1,
      "outputs": []
    },
    {
      "cell_type": "markdown",
      "metadata": {
        "id": "N5DbuDxhAGZ7"
      },
      "source": [
        "## ***LINEAR COMBINATION***"
      ]
    },
    {
      "cell_type": "markdown",
      "metadata": {
        "id": "6NoLXUwBAQYX"
      },
      "source": [
        "It is said that a linear combination is the combination of linear scaling and addition of a vector its bases/components.\n",
        "\n",
        "We will try to visualize the vectors and their linear combinations by plotting a sample of real number values for the scalars for the vectors. Let's first try the vectors below:"
      ]
    },
    {
      "cell_type": "markdown",
      "metadata": {
        "id": "pTMDf-aFAWRo"
      },
      "source": [
        "$$X = \\begin{bmatrix} 2\\\\5 \\\\\\end{bmatrix} , Y = \\begin{bmatrix} 7\\\\9 \\\\\\end{bmatrix} $$"
      ]
    },
    {
      "cell_type": "code",
      "metadata": {
        "colab": {
          "base_uri": "https://localhost:8080/"
        },
        "id": "xZ9DYZdHAXeO",
        "outputId": "2a33a3be-1ad7-4751-df36-0a82f4d6060c"
      },
      "source": [
        "vectJ =  np.array([2,5])\n",
        "vectD =  np.array([7,9])\n",
        "vectD"
      ],
      "execution_count": 41,
      "outputs": [
        {
          "output_type": "execute_result",
          "data": {
            "text/plain": [
              "array([7, 9])"
            ]
          },
          "metadata": {},
          "execution_count": 41
        }
      ]
    },
    {
      "cell_type": "markdown",
      "metadata": {
        "id": "pFvrWUY9AeMT"
      },
      "source": [
        "## ***SPAN OF SINGLE VECTOR***"
      ]
    },
    {
      "cell_type": "markdown",
      "metadata": {
        "id": "y-JNRW2vAhjq"
      },
      "source": [
        "As discussed in the lecture, the span of individual vectors can be represented by a line span. Let's take vector $X$ as an example."
      ]
    },
    {
      "cell_type": "markdown",
      "metadata": {
        "id": "XVEtFfLmAjQb"
      },
      "source": [
        "$$X = c\\cdot \\begin{bmatrix} 2\\\\5 \\\\\\end{bmatrix} $$\n"
      ]
    },
    {
      "cell_type": "code",
      "metadata": {
        "colab": {
          "base_uri": "https://localhost:8080/",
          "height": 269
        },
        "id": "4UGgM1KNAnGJ",
        "outputId": "14c3c4e9-34ee-4f31-8134-c36f0fb6cc5e"
      },
      "source": [
        "c = np.arange(-10,10,0.125)\n",
        "\n",
        "plt.scatter(c*vectX[0],c*vectX[1])\n",
        "\n",
        "plt.xlim(-10,10)\n",
        "plt.ylim(-10,10)\n",
        "plt.axhline(y=0, color='k')\n",
        "plt.axvline(x=0, color='k')\n",
        "plt.grid()\n",
        "plt.show()"
      ],
      "execution_count": 4,
      "outputs": [
        {
          "output_type": "display_data",
          "data": {
            "image/png": "[encoded data removed]",
            "text/plain": [
              "<Figure size 432x288 with 1 Axes>"
            ]
          },
          "metadata": {
            "needs_background": "light"
          }
        }
      ]
    },
    {
      "cell_type": "markdown",
      "metadata": {
        "id": "5iZHw6_WAqt3"
      },
      "source": [
        "$$Y = c\\cdot \\begin{bmatrix} 7\\\\9 \\\\\\end{bmatrix} $$"
      ]
    },
    {
      "cell_type": "code",
      "metadata": {
        "colab": {
          "base_uri": "https://localhost:8080/",
          "height": 269
        },
        "id": "iCyvLVYWAoaI",
        "outputId": "748903e5-4fc5-4da0-c436-ae747b716338"
      },
      "source": [
        "c = np.arange(-15,15,0.5)\n",
        "\n",
        "plt.scatter(c*vectY[0],c*vectY[1])\n",
        "\n",
        "plt.xlim(-20,20)\n",
        "plt.ylim(-20,20)\n",
        "plt.axhline(y=0, color='k')\n",
        "plt.axvline(x=0, color='k')\n",
        "plt.grid()\n",
        "plt.show()"
      ],
      "execution_count": 5,
      "outputs": [
        {
          "output_type": "display_data",
          "data": {
            "image/png": "[encoded data removed]",
            "text/plain": [
              "<Figure size 432x288 with 1 Axes>"
            ]
          },
          "metadata": {
            "needs_background": "light"
          }
        }
      ]
    },
    {
      "cell_type": "markdown",
      "metadata": {
        "id": "-gCHUAJSAtyx"
      },
      "source": [
        "## ***SPAN OF A LINEAR COMBINATION OF VECTORS***"
      ]
    },
    {
      "cell_type": "markdown",
      "metadata": {
        "id": "e2HY6O62AyU0"
      },
      "source": [
        "So what if we are to plot the span of a linear combination of vectors? We can visualize as a plane on the 2-dimensional coordinate system. Let's take the span of the linear combination below:"
      ]
    },
    {
      "cell_type": "markdown",
      "metadata": {
        "id": "FAI5eNAuAzvK"
      },
      "source": [
        "$$S = \\begin{Bmatrix} c_1 \\cdot\\begin{bmatrix} 1\\\\0 \\\\\\end{bmatrix}, \n",
        "c_2 \\cdot \\begin{bmatrix} 1\\\\-1 \\\\\\end{bmatrix}\\end{Bmatrix} $$"
      ]
    },
    {
      "cell_type": "code",
      "metadata": {
        "colab": {
          "base_uri": "https://localhost:8080/",
          "height": 265
        },
        "id": "QM841vt4A2u3",
        "outputId": "78b70ca0-ca90-4a07-cef2-1c73a28535e2"
      },
      "source": [
        "vectA = np.array([1,0])\n",
        "vectB = np.array([1,-1])\n",
        "\n",
        "R = np.arange(-10,10,1)\n",
        "\n",
        "c1, c2 = np.meshgrid(R,R)\n",
        "\n",
        "vectR = vectA + vectB\n",
        "spanRx = c1*vectA[0] + c2*vectB[0]\n",
        "spanRy = c1*vectA[1] + c2*vectB[1]\n",
        "##plt.scatter(R*vectA[0],R*vectA[1])\n",
        "##plt.scatter(R*vectB[0],R*vectB[1])\n",
        "plt.scatter(spanRx,spanRy, s=5, alpha=0.75)\n",
        "\n",
        "plt.axhline(y=0, color='k')\n",
        "plt.axvline(x=0, color='k')\n",
        "plt.grid()\n",
        "plt.show()"
      ],
      "execution_count": 6,
      "outputs": [
        {
          "output_type": "display_data",
          "data": {
            "image/png": "[encoded data removed]",
            "text/plain": [
              "<Figure size 432x288 with 1 Axes>"
            ]
          },
          "metadata": {
            "needs_background": "light"
          }
        }
      ]
    },
    {
      "cell_type": "code",
      "metadata": {
        "colab": {
          "base_uri": "https://localhost:8080/",
          "height": 265
        },
        "id": "-I8st8WZA3me",
        "outputId": "958a5247-72c0-494a-a0d8-2cf44d188daa"
      },
      "source": [
        "vectP = np.array([2,1])\n",
        "vectQ = np.array([4,3])\n",
        "\n",
        "R = np.arange(-10,10,1)\n",
        "\n",
        "c1, c2 = np.meshgrid(R,R)\n",
        "\n",
        "vectR = vectP + vectQ\n",
        "spanRx = c1*vectP[0] + c2*vectQ[0]\n",
        "spanRy = c1*vectP[1] + c2*vectQ[1]\n",
        "##plt.scatter(R*vectA[0],R*vectA[1])\n",
        "##plt.scatter(R*vectB[0],R*vectB[1])\n",
        "plt.scatter(spanRx,spanRy, s=5, alpha=0.75)\n",
        "\n",
        "plt.axhline(y=0, color='k')\n",
        "plt.axvline(x=0, color='k')\n",
        "plt.grid()\n",
        "plt.show()"
      ],
      "execution_count": 7,
      "outputs": [
        {
          "output_type": "display_data",
          "data": {
            "image/png": "[encoded data removed]",
            "text/plain": [
              "<Figure size 432x288 with 1 Axes>"
            ]
          },
          "metadata": {
            "needs_background": "light"
          }
        }
      ]
    },
    {
      "cell_type": "markdown",
      "metadata": {
        "id": "eU7Ms4dzA7Sq"
      },
      "source": [
        "Take note that if vectors are seen to be as a 2-dimensional span we can say it has a Rank of 2 or  R2 . But if the span of the linear combination of vectors are seen to be like a line, they are said to be linearly dependent and they have a rank of 1 or  R1 ."
      ]
    },
    {
      "cell_type": "markdown",
      "metadata": {
        "id": "t0sPHMPTA9PT"
      },
      "source": [
        "# ***ACTIVITY***"
      ]
    },
    {
      "cell_type": "markdown",
      "metadata": {
        "id": "S9PV-0QBBHnU"
      },
      "source": [
        "## ***TASK 1***"
      ]
    },
    {
      "cell_type": "markdown",
      "metadata": {
        "id": "eaRk4qaiBKX0"
      },
      "source": [
        "Try different linear combinations using different scalar values. In your methodology discuss the different functions that you have used, the linear equation and vector form of the linear combination, and the flowchart for declaring and displaying linear combinations. Please make sure that your flowchart has only few words and not putting the entire code as it is bad practice. In your results, display and discuss the linear combination visualization you made. You should use the cells below for displaying the equation markdows using LaTeX and your code."
      ]
    },
    {
      "cell_type": "markdown",
      "metadata": {
        "id": "yL4jV8crBOKT"
      },
      "source": [
        "$$\n",
        "Space \\cdot for \\cdot the \\cdot general \\cdot linear \\cdot equation \\cdot form\n",
        "$$"
      ]
    },
    {
      "cell_type": "markdown",
      "metadata": {
        "id": "43q1xx79BRXq"
      },
      "source": [
        "$$Space \\cdot for \\cdot the \\cdot vector \\cdot form$$"
      ]
    },
    {
      "cell_type": "markdown",
      "metadata": {
        "id": "-xwJzYSKDyb3"
      },
      "source": [
        "### ***ANSWER***"
      ]
    },
    {
      "cell_type": "markdown",
      "metadata": {
        "id": "SkypABMRDnwL"
      },
      "source": [
        "### ***LINEAR COMBINATION***"
      ]
    },
    {
      "cell_type": "markdown",
      "metadata": {
        "id": "gcxrJsolFFds"
      },
      "source": [
        "$$J = \\begin{bmatrix} 3\\\\6 \\\\\\end{bmatrix} , D = \\begin{bmatrix} 6\\\\8 \\\\\\end{bmatrix} $$"
      ]
    },
    {
      "cell_type": "code",
      "metadata": {
        "colab": {
          "base_uri": "https://localhost:8080/"
        },
        "id": "hNi8r2fQBQIW",
        "outputId": "ddc73e58-7489-44ca-adfa-887eadd0a59b"
      },
      "source": [
        "vectX1 =  np.array([3,6])\n",
        "vectY1 =  np.array([6,8])\n",
        "vectY"
      ],
      "execution_count": 10,
      "outputs": [
        {
          "output_type": "execute_result",
          "data": {
            "text/plain": [
              "array([7, 9])"
            ]
          },
          "metadata": {},
          "execution_count": 10
        }
      ]
    },
    {
      "cell_type": "markdown",
      "metadata": {
        "id": "7velpJfXD5P2"
      },
      "source": [
        "### ***SPAN OF SINGLE VECTOR***\n"
      ]
    },
    {
      "cell_type": "markdown",
      "metadata": {
        "id": "DR31YHgBFDZR"
      },
      "source": [
        "$$B = C\\cdot \\begin{bmatrix} 6\\\\8 \\\\\\end{bmatrix} $$"
      ]
    },
    {
      "cell_type": "code",
      "metadata": {
        "colab": {
          "base_uri": "https://localhost:8080/",
          "height": 269
        },
        "id": "ruXjKWKcB5Ee",
        "outputId": "6f1137ba-b644-4053-b954-ec3a61e33ae2"
      },
      "source": [
        "c = np.arange(-12,20,1)\n",
        "\n",
        "plt.scatter(c*vectX[0],c*vectX[1])\n",
        "\n",
        "plt.xlim(-20,20)\n",
        "plt.ylim(-20,20)\n",
        "plt.axhline(y=0, color='k')\n",
        "plt.axvline(x=0, color='k')\n",
        "plt.grid()\n",
        "plt.show()"
      ],
      "execution_count": 59,
      "outputs": [
        {
          "output_type": "display_data",
          "data": {
            "image/png": "[encoded data removed]",
            "text/plain": [
              "<Figure size 432x288 with 1 Axes>"
            ]
          },
          "metadata": {
            "needs_background": "light"
          }
        }
      ]
    },
    {
      "cell_type": "markdown",
      "metadata": {
        "id": "87t6Ku9BI8EJ"
      },
      "source": [
        "$$B = C\\cdot \\begin{bmatrix} 5\\\\10 \\\\\\end{bmatrix} $$\n"
      ]
    },
    {
      "cell_type": "code",
      "metadata": {
        "colab": {
          "base_uri": "https://localhost:8080/",
          "height": 269
        },
        "id": "c7fXlOJAI5hO",
        "outputId": "c8bee469-e4b5-445d-b710-0bad9f198afd"
      },
      "source": [
        "c = np.arange(-13,35,0.8)\n",
        "\n",
        "plt.scatter(c*vectX[0],c*vectX[1])\n",
        "\n",
        "plt.xlim(-40,40)\n",
        "plt.ylim(-40,40)\n",
        "plt.axhline(y=0, color='k')\n",
        "plt.axvline(x=0, color='k')\n",
        "plt.grid()\n",
        "plt.show()"
      ],
      "execution_count": 60,
      "outputs": [
        {
          "output_type": "display_data",
          "data": {
            "image/png": "[encoded data removed]",
            "text/plain": [
              "<Figure size 432x288 with 1 Axes>"
            ]
          },
          "metadata": {
            "needs_background": "light"
          }
        }
      ]
    },
    {
      "cell_type": "markdown",
      "metadata": {
        "id": "AusHmXJ6EuUV"
      },
      "source": [
        "### ***SPAN OF A LINEAR COMBINATION OF VECTORS***"
      ]
    },
    {
      "cell_type": "markdown",
      "metadata": {
        "id": "kDsCoRtGFALt"
      },
      "source": [
        "$$\n",
        "Space \\cdot for \\cdot the \\cdot general \\cdot linear \\cdot equation \\cdot form\n",
        "$$"
      ]
    },
    {
      "cell_type": "markdown",
      "metadata": {
        "id": "ONVZGwQ3FNmG"
      },
      "source": [
        "$$L = \\begin{Bmatrix} c_1 \\cdot\\begin{bmatrix} 8\\\\4 \\\\\\end{bmatrix}, \n",
        "c_2 \\cdot \\begin{bmatrix} 5\\\\-1 \\\\\\end{bmatrix}\\end{Bmatrix} $$"
      ]
    },
    {
      "cell_type": "code",
      "metadata": {
        "colab": {
          "base_uri": "https://localhost:8080/",
          "height": 265
        },
        "id": "LI8VpBr9FP-Z",
        "outputId": "3bebeba0-65e1-44e7-cd76-3c10c51f68a1"
      },
      "source": [
        "vectX3 = np.array([8,4])\n",
        "vectY3 = np.array([5,-1])\n",
        "\n",
        "vectR3 = np.arange(-20,15,2)\n",
        "\n",
        "c1, c2 = np.meshgrid(F,F)\n",
        "\n",
        "vect3 = vectX3 + vectY3\n",
        "spanFx = c1*vectO[0] + c2*vectP[0]\n",
        "spanFy = c1*vectO[1] + c2*vectP[1]\n",
        "##plt.scatter(R*vectA[0],R*vectA[1])\n",
        "##plt.scatter(R*vectB[0],R*vectB[1])\n",
        "plt.scatter(spanFx,spanFy, s=5, alpha=0.75)\n",
        "\n",
        "plt.axhline(y=0, color='k')\n",
        "plt.axvline(x=0, color='k')\n",
        "plt.grid()\n",
        "plt.show()"
      ],
      "execution_count": 40,
      "outputs": [
        {
          "output_type": "display_data",
          "data": {
            "image/png": "[encoded data removed]",
            "text/plain": [
              "<Figure size 432x288 with 1 Axes>"
            ]
          },
          "metadata": {
            "needs_background": "light"
          }
        }
      ]
    },
    {
      "cell_type": "markdown",
      "metadata": {
        "id": "lDG2og_uGGUw"
      },
      "source": [
        "$$Space \\cdot for \\cdot the \\cdot vector \\cdot form$$"
      ]
    },
    {
      "cell_type": "markdown",
      "metadata": {
        "id": "AjEXtXGxBUD3"
      },
      "source": [
        "## ***CONCLUSION***"
      ]
    },
    {
      "cell_type": "markdown",
      "metadata": {
        "id": "eLqr5KnsBWq5"
      },
      "source": [
        "For your conclusion synthesize the concept and application of the laboratory. Briefly discuss what you have learn and achieved in this activity. At the end of your conclusion try to answer the question : \"How can you apply the concept of linear combination in engineering or real-life situations?\"."
      ]
    }
  ]
}